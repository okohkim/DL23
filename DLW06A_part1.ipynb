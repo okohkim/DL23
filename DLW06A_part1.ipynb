{
  "nbformat": 4,
  "nbformat_minor": 0,
  "metadata": {
    "colab": {
      "provenance": [],
      "include_colab_link": true
    },
    "kernelspec": {
      "name": "python3",
      "display_name": "Python 3"
    },
    "language_info": {
      "name": "python"
    }
  },
  "cells": [
    {
      "cell_type": "markdown",
      "metadata": {
        "id": "view-in-github",
        "colab_type": "text"
      },
      "source": [
        "<a href=\"https://colab.research.google.com/github/okohkim/DL23/blob/main/DLW06A_part1.ipynb\" target=\"_parent\"><img src=\"https://colab.research.google.com/assets/colab-badge.svg\" alt=\"Open In Colab\"/></a>"
      ]
    },
    {
      "cell_type": "markdown",
      "source": [
        "# 🌀**DLW06A Part I (4/12)** Coding and Language games"
      ],
      "metadata": {
        "id": "_mbT_YJKGkm-"
      }
    },
    {
      "cell_type": "markdown",
      "source": [
        "# 💕 Goal: Creating an app similar to **_Word Guessing Game from Hints_**\n",
        "\n",
        "We will be spending 2 weeks to get this go."
      ],
      "metadata": {
        "id": "ppmHMRdisMiv"
      }
    },
    {
      "cell_type": "markdown",
      "source": [
        "##💦 **Demo 1: Making a word quiz.**"
      ],
      "metadata": {
        "id": "MWpQZGE5wZgt"
      }
    },
    {
      "cell_type": "code",
      "source": [
        "#@markdown Run this code to see guesiong game\n",
        "import random\n",
        "\n",
        "# Define a dictionary of words and their hints\n",
        "word_hints = {\n",
        "    \"suprasegmental\": [\n",
        "        \"This term is related to the features of speech that go beyond individual sounds.\",\n",
        "        \"It is often associated with intonation, stress, and timing.\",\n",
        "        \"Examples include pitch, tone, and stress patterns.\",\n",
        "        \"The answer begins with 's'.\"\n",
        "    ],\n",
        "    \"geminate\": [\n",
        "        \"This term is related to a specific type of consonant.\",\n",
        "        \"It refers to a consonant that is pronounced for a longer duration than its regular counterpart.\",\n",
        "        \"In some languages, it can be represented by doubling the consonant in writing.\",\n",
        "        \"The answer begins with 'g'.\"\n",
        "    ],\n",
        "    \"syllable\": [\n",
        "        \"This term is related to a unit of speech.\",\n",
        "        \"It is a sequence of speech sounds, typically consisting of a vowel and any surrounding consonants.\",\n",
        "        \"A word can have one or multiple of these units.\",\n",
        "        \"The answer begins with 's'.\"\n",
        "    ]\n",
        "}\n",
        "\n",
        "# Define guessing game\n",
        "\n",
        "def guessing_game(word_hints):\n",
        "    words = list(word_hints.keys())\n",
        "    random.shuffle(words)\n",
        "\n",
        "    for word in words:\n",
        "        print(\"\\nGuess the word based on the following hints:\")\n",
        "        hints = word_hints[word]\n",
        "        attempts = 0\n",
        "\n",
        "        while attempts < len(hints):\n",
        "            print(f\"Hint {attempts + 1}: {hints[attempts]}\")\n",
        "            guess = input(\"Your guess: \").strip().lower()\n",
        "\n",
        "            if guess == word.lower():\n",
        "                print(\"Congratulations! You guessed the correct word!\\n\")\n",
        "                break\n",
        "            else:\n",
        "                print(\"Incorrect. Try again with another hint.\\n\")\n",
        "                attempts += 1\n",
        "\n",
        "        if attempts == len(hints):\n",
        "            print(f\"Sorry, you've run out of hints. The correct word was: {word}\\n\")\n",
        "\n",
        "# Using this conditional structure is a common practice in Python to allow a script to be both executed as a standalone program and imported as a module in other scripts without immediately running the code within the script.\n",
        "if __name__ == \"__main__\":\n",
        "  guessing_game(word_hints)"
      ],
      "metadata": {
        "cellView": "form",
        "id": "68fDLUnZs8KF",
        "outputId": "9fa2c82d-e135-4783-befe-4a9774fa67ac",
        "colab": {
          "base_uri": "https://localhost:8080/"
        }
      },
      "execution_count": 1,
      "outputs": [
        {
          "output_type": "stream",
          "name": "stdout",
          "text": [
            "\n",
            "Guess the word based on the following hints:\n",
            "Hint 1: This term is related to a specific type of consonant.\n",
            "Your guess: syllabic consonant\n",
            "Incorrect. Try again with another hint.\n",
            "\n",
            "Hint 2: It refers to a consonant that is pronounced for a longer duration than its regular counterpart.\n",
            "Your guess: aspirated\n",
            "Incorrect. Try again with another hint.\n",
            "\n",
            "Hint 3: In some languages, it can be represented by doubling the consonant in writing.\n",
            "Your guess: double consonant\n",
            "Incorrect. Try again with another hint.\n",
            "\n",
            "Hint 4: The answer begins with 'g'.\n",
            "Your guess: geminate consonant\n",
            "Incorrect. Try again with another hint.\n",
            "\n",
            "Sorry, you've run out of hints. The correct word was: geminate\n",
            "\n",
            "\n",
            "Guess the word based on the following hints:\n",
            "Hint 1: This term is related to a unit of speech.\n",
            "Your guess: geminate\n",
            "Incorrect. Try again with another hint.\n",
            "\n",
            "Hint 2: It is a sequence of speech sounds, typically consisting of a vowel and any surrounding consonants.\n",
            "Your guess: \n",
            "Incorrect. Try again with another hint.\n",
            "\n",
            "Hint 3: A word can have one or multiple of these units.\n",
            "Your guess: \n",
            "Incorrect. Try again with another hint.\n",
            "\n",
            "Hint 4: The answer begins with 's'.\n",
            "Your guess: \n",
            "Incorrect. Try again with another hint.\n",
            "\n",
            "Sorry, you've run out of hints. The correct word was: syllable\n",
            "\n",
            "\n",
            "Guess the word based on the following hints:\n",
            "Hint 1: This term is related to the features of speech that go beyond individual sounds.\n",
            "Your guess: \n",
            "Incorrect. Try again with another hint.\n",
            "\n",
            "Hint 2: It is often associated with intonation, stress, and timing.\n",
            "Your guess: \n",
            "Incorrect. Try again with another hint.\n",
            "\n",
            "Hint 3: Examples include pitch, tone, and stress patterns.\n",
            "Your guess: \n",
            "Incorrect. Try again with another hint.\n",
            "\n",
            "Hint 4: The answer begins with 's'.\n",
            "Your guess: \n",
            "Incorrect. Try again with another hint.\n",
            "\n",
            "Sorry, you've run out of hints. The correct word was: suprasegmental\n",
            "\n"
          ]
        }
      ]
    },
    {
      "cell_type": "markdown",
      "source": [
        "##💦**Demo 2: Convert a statement to a yes-no question**"
      ],
      "metadata": {
        "id": "DKwjeU8pW-iu"
      }
    },
    {
      "cell_type": "code",
      "source": [
        "#@markdown Install and import libraries\n",
        "%%capture\n",
        "!pip install gtts\n",
        "!pip install IPython\n",
        "from gtts import gTTS\n",
        "from IPython.display import Audio, display\n",
        "\n",
        "#@markdown etts(), ktts()\n",
        "def etts(text):\n",
        "  text_to_say = text\n",
        "\n",
        "  gtts_object = gTTS(text = text_to_say,\n",
        "                     lang = \"en\",\n",
        "                    slow = False)\n",
        "  \n",
        "  gtts_object.save(\"E-audio.mp3\")\n",
        "  return Audio(\"E-audio.mp3\")\n",
        "\n",
        "def ktts(text):\n",
        "  text_to_say = text\n",
        "\n",
        "  gtts_object = gTTS(text = text_to_say,\n",
        "                     lang = \"ko\",\n",
        "                    slow = False)\n",
        "  \n",
        "  gtts_object.save(\"K-audio.mp3\")\n",
        "  return Audio(\"K-audio.mp3\")"
      ],
      "metadata": {
        "id": "TajMEehr8_7D"
      },
      "execution_count": 2,
      "outputs": []
    },
    {
      "cell_type": "markdown",
      "source": [
        "---\n",
        "### Complete version with some restriction \n",
        "\n",
        "1. The statement you're entering must contain a be-verb.\n",
        "2. If you use a proper noun as a subject, restrict it to one of the followings: \n",
        "\n",
        "> **Male: Tom, Thomas, Bill, OHyun**\n",
        "\n",
        "> **Female: Mary, Jane, Jessica**\n",
        "\n",
        "2. Must contain a punctuation(.)\n",
        "---"
      ],
      "metadata": {
        "id": "5XYJaX2IDrOu"
      }
    },
    {
      "cell_type": "code",
      "source": [
        "#@markdown Statment to a Yes-No question (Audio autoplay)\n",
        "sentence = input(\"Type a sentence containing a be verb: e.g., I am a students.\\n\")\n",
        "beverbs = [\"is\", \"was\", \"are\", \"were\"]\n",
        "pronouns = [\"I\",\"You\",\"He\",\"She\",\"They\",\"It\"]\n",
        "names = [\"Mary\", \"Jane\", \"Tom\",\"Thomas\",\"Jessica\", \"Bill\", \"OHyun\"]\n",
        "\n",
        "def check_word(list_A, list_B):\n",
        "    for a in list_A:\n",
        "        for b in list_B:\n",
        "            if b in a:\n",
        "                mword = a\n",
        "                return True, mword\n",
        "    return False, None\n",
        "\n",
        "\n",
        "cat1 = sentence.split()\n",
        "\n",
        "result = check_word(cat1,beverbs)\n",
        "\n",
        "if result[0] == True:\n",
        "  if cat1[0] in pronouns:\n",
        "      b = result[1]\n",
        "      be = \" \"+b+\" \"\n",
        "      ss = sentence.split(be)\n",
        "      subj = ss[0]\n",
        "      nsubj = subj[0].lower()+subj[1:]\n",
        "      pred = ss[1]\n",
        "      w1 = b[0].upper() + b[1:] # Capitalized be verb\n",
        "      newsent = w1 + \" \" + nsubj + \" \" + pred[:-1] + \"?\"\n",
        "      mytext = \"I'll make it to a yes-no question: \" + newsent\n",
        "      print(\"Yes-no question: \", newsent)\n",
        "  elif cat1[0] not in pronouns and cat1[0] in names:\n",
        "        b = result[1]\n",
        "        be = \" \"+b+\" \"\n",
        "        ss = sentence.split(be)\n",
        "        subj = ss[0]\n",
        "        pred = ss[1]\n",
        "        w1 = b[0].upper() + b[1:] # Capitalized be verb\n",
        "        newsent = w1 + \" \" + subj + \" \" + pred[:-1] + \"?\"\n",
        "        mytext = \"I'll make it to a yes-no question: \" + newsent\n",
        "        print(\"Yes-no question: \", newsent)\n",
        "  elif cat1[0] not in pronouns and cat1[0] not in names:\n",
        "        b = result[1]\n",
        "        be = \" \"+b+\" \"\n",
        "        ss = sentence.split(be)\n",
        "        subj = ss[0]\n",
        "        nsubj = subj[0].lower()+subj[1:]\n",
        "        pred = ss[1]\n",
        "        w1 = b[0].upper() + b[1:] # Capitalized be verb\n",
        "        newsent = w1 + \" \" + nsubj + \" \" + pred[:-1] + \"?\"\n",
        "        mytext = \"I'll make it to a yes-no question: \" + newsent\n",
        "        print(\"Yes-no question: \", newsent)\n",
        "\n",
        "else:\n",
        "    mytext = \"The sentence you\\' provided does not contain a 'Be' verb. Try again.\"\n",
        "    print(\"Type a sentence that contains a be verb.\")\n",
        "\n",
        "etts(mytext)\n",
        "Audio(\"E-audio.mp3\",autoplay=True)"
      ],
      "metadata": {
        "cellView": "form",
        "id": "ZjPSWFub-55P",
        "outputId": "2cd0b113-3452-4ee0-9b8b-5e125cf3f04a",
        "colab": {
          "base_uri": "https://localhost:8080/",
          "height": 129
        }
      },
      "execution_count": 10,
      "outputs": [
        {
          "output_type": "stream",
          "name": "stdout",
          "text": [
            "Type a sentence containing a be verb: e.g., I am a students.\n",
            "Jane is OHyun's girl friend.\n",
            "Yes-no question:  Is Jane OHyun's girl friend?\n"
          ]
        },
        {
          "output_type": "execute_result",
          "data": {
            "text/plain": [
              "<IPython.lib.display.Audio object>"
            ],
            "text/html": [
              "\n",
              "                <audio  controls=\"controls\" autoplay=\"autoplay\">\n",
              "                    <source src=\"data:audio/mpeg;base64,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\" type=\"audio/mpeg\" />\n",
              "                    Your browser does not support the audio element.\n",
              "                </audio>\n",
              "              "
            ]
          },
          "metadata": {},
          "execution_count": 10
        }
      ]
    },
    {
      "cell_type": "markdown",
      "source": [
        "## 💦**Demo 3: Story game**"
      ],
      "metadata": {
        "id": "UG0_f0gJQl1r"
      }
    },
    {
      "cell_type": "code",
      "source": [
        "#@markdown Adventure game with reading\n",
        "print(\"Welcome to the adventure game!\")\n",
        "print(\"=\"*50)\n",
        "print(\"You are a high school student who has been chosen to embark on a quest to save your town from a mysterious curse.\")\n",
        "print(\"You will face various challenges and choices along the way, and your decisions will determine the outcome of the story.\")\n",
        "print(\"=\"*50)\n",
        "name = input(\"What is your name? \")\n",
        "print(\"=\"*50)\n",
        "print(f\"Nice to meet you, {name}! Are you ready to begin?\")\n",
        "print(\"=\"*50)\n",
        "# Start of the story\n",
        "print(\"You wake up one morning to find that your town is covered in a thick fog.\")\n",
        "print(\"People are starting to get sick, and strange things are happening.\")\n",
        "print(\"You decide to investigate and find out that a curse has been cast upon the town.\")\n",
        "print(\"You meet a wise old sage who tells you that the only way to lift the curse is to find a magical artifact that is hidden in a dangerous dungeon.\")\n",
        "print(\"=\"*50)\n",
        "# First choice\n",
        "print(\"You have two options:\")\n",
        "print(\"Option 1: Search for clues in the town.\")\n",
        "print(\"Option 2: Go straight to the dungeon.\")\n",
        "print(\"=\"*50)\n",
        "choice = input(\"Which option do you choose? (1 or 2) \")\n",
        "print(\"=\"*50)\n",
        "if choice == \"1\":\n",
        "    print(\"You spend the day talking to townspeople and searching for clues.\")\n",
        "    print(\"You find a cryptic message that leads you to a hidden cave.\")\n",
        "elif choice == \"2\":\n",
        "    print(\"You journey to the dungeon and face many dangers along the way.\")\n",
        "    print(\"You eventually reach the entrance to the dungeon.\")\n",
        "print(\"=\"*50)\n",
        "# Second choice\n",
        "print(\"You have two options:\")\n",
        "print(\"Option 1: Enter the cave.\")\n",
        "print(\"Option 2: Enter the dungeon.\")\n",
        "print(\"=\"*50)\n",
        "choice = input(\"Which option do you choose? (1 or 2) \")\n",
        "print(\"=\"*50)\n",
        "if choice == \"1\":\n",
        "    print(\"=\"*50)\n",
        "    print(\"You enter the cave and find the magical artifact!\")\n",
        "    print(\"You bring it back to the town and the curse is lifted.\")\n",
        "    print(\"Congratulations! You have saved the town!\")\n",
        "    print(\"=\"*50)\n",
        "elif choice == \"2\":\n",
        "    print(\"=\"*50)\n",
        "    print(\"You enter the dungeon and face many challenges.\")\n",
        "    print(\"You eventually find the magical artifact, but it is guarded by a powerful monster.\")\n",
        "    print(\"You must defeat the monster to retrieve the artifact.\")\n",
        "    print(\"You engage in a fierce battle!\")\n",
        "    print(\"You lost the battle and the curse remains.\")\n",
        "    print(\"Brave You! Though the curse remains, people appreicate your effort.\")\n",
        "    print(\"=\"*50)\n"
      ],
      "metadata": {
        "cellView": "form",
        "id": "qBAUNW9qP75J",
        "outputId": "589e934e-ca5c-4682-9dcd-6ca5ae36bcbb",
        "colab": {
          "base_uri": "https://localhost:8080/"
        }
      },
      "execution_count": 13,
      "outputs": [
        {
          "output_type": "stream",
          "name": "stdout",
          "text": [
            "Welcome to the adventure game!\n",
            "==================================================\n",
            "You are a high school student who has been chosen to embark on a quest to save your town from a mysterious curse.\n",
            "You will face various challenges and choices along the way, and your decisions will determine the outcome of the story.\n",
            "==================================================\n",
            "What is your name? OH\n",
            "==================================================\n",
            "Nice to meet you, OH! Are you ready to begin?\n",
            "==================================================\n",
            "You wake up one morning to find that your town is covered in a thick fog.\n",
            "People are starting to get sick, and strange things are happening.\n",
            "You decide to investigate and find out that a curse has been cast upon the town.\n",
            "You meet a wise old sage who tells you that the only way to lift the curse is to find a magical artifact that is hidden in a dangerous dungeon.\n",
            "==================================================\n",
            "You have two options:\n",
            "Option 1: Search for clues in the town.\n",
            "Option 2: Go straight to the dungeon.\n",
            "==================================================\n",
            "Which option do you choose? (1 or 2) 2\n",
            "==================================================\n",
            "You journey to the dungeon and face many dangers along the way.\n",
            "You eventually reach the entrance to the dungeon.\n",
            "==================================================\n",
            "You have two options:\n",
            "Option 1: Enter the cave.\n",
            "Option 2: Enter the dungeon.\n",
            "==================================================\n",
            "Which option do you choose? (1 or 2) 2\n",
            "==================================================\n",
            "==================================================\n",
            "You enter the dungeon and face many challenges.\n",
            "You eventually find the magical artifact, but it is guarded by a powerful monster.\n",
            "You must defeat the monster to retrieve the artifact.\n",
            "You engage in a fierce battle!\n",
            "You lost the battle and the curse remains.\n",
            "Brave You! Though the curse remains, people appreicate your effort.\n",
            "==================================================\n"
          ]
        }
      ]
    },
    {
      "cell_type": "code",
      "source": [
        "#@markdown Story game with listening (audio)\n",
        "from gtts import gTTS\n",
        "import IPython.display as ipd\n",
        "\n",
        "def play_audio(text):\n",
        "    language = 'en'\n",
        "    audio = gTTS(text=text, lang=language, slow=False)\n",
        "    audio.save(\"audio.mp3\")\n",
        "    ipd.display(ipd.Audio(\"audio.mp3\", autoplay=True))\n",
        "\n",
        "# Introduction\n",
        "play_audio(\"Welcome to the story game. You are walking home from school when you hear footsteps behind you. You look back and see a shady figure in the distance. What do you do?\")\n",
        "ipd.clear_output(wait=True)\n",
        "input(\"Press Enter to continue...\")\n",
        "\n",
        "# Stage 1\n",
        "play_audio(\"You decide to run. Do you run towards the park or towards the busy street?\")\n",
        "ipd.clear_output(wait=True)\n",
        "choice = input(\"Enter 1 to run towards the park, or 2 to run towards the busy street: \")\n",
        "if choice == \"1\":\n",
        "    play_audio(\"You run towards the park and manage to lose the shady figure. You continue walking home and make it back safely.\")\n",
        "elif choice == \"2\":\n",
        "    play_audio(\"You run towards the busy street, hoping to find someone to help you. As you get closer, you realize that the figure is a police officer. You stop and explain what happened, and the officer escorts you home safely.\")\n",
        "ipd.clear_output(wait=True)\n",
        "input(\"Press Enter to continue...\")\n",
        "\n",
        "# Stage 2\n",
        "play_audio(\"You arrive home and find that your front door is slightly open. Do you go inside or call the police?\")\n",
        "ipd.clear_output(wait=True)\n",
        "choice = input(\"Enter 1 to go inside, or 2 to call the police: \")\n",
        "if choice == \"1\":\n",
        "    play_audio(\"You cautiously enter your home and find that everything is as you left it. You breathe a sigh of relief and go about your evening.\")\n",
        "elif choice == \"2\":\n",
        "    play_audio(\"You call the police and they arrive shortly after. They search your home and find no one inside. You spend the night at a friend's house and return home the next day.\")\n",
        "ipd.clear_output(wait=True)\n",
        "input(\"Press Enter to continue...\")\n",
        "\n",
        "# Conclusion\n",
        "play_audio(\"Good choice! you have successfully made it home safely. Thanks for playing!\")\n",
        "ipd.clear_output(wait=True)\n"
      ],
      "metadata": {
        "cellView": "form",
        "id": "mx_BDEl-TqLe",
        "outputId": "0a099784-cb9f-41df-a146-9bb877ca4472",
        "colab": {
          "base_uri": "https://localhost:8080/",
          "height": 93
        }
      },
      "execution_count": 16,
      "outputs": [
        {
          "name": "stdout",
          "output_type": "stream",
          "text": [
            "Press Enter to continue...\n"
          ]
        },
        {
          "output_type": "display_data",
          "data": {
            "text/plain": [
              "<IPython.lib.display.Audio object>"
            ],
            "text/html": [
              "\n",
              "                <audio  controls=\"controls\" autoplay=\"autoplay\">\n",
              "                    <source src=\"data:audio/mpeg;base64,//NExAAAAANIAUAAAMG54lMBjMH2xxks5cybJ8rPxRXFxif8exP58rg4wOf/ih4uxP7/m2Od//f/JJIJjw////+iK5CMcXQhf////+RluTVSnFF+/UEZDVRHQxMj4Tx8//NExFMRcypMAZQoACgiSuS25M+IkPrmFuqvV8c5Go4oSei7lnJwcBc1fHUhQkgVbOpH8Y/E+oFZEj/3j1tl6/8rbX/+lNXjWv7a37arjf/+d0pSPStN4tu+/jMenl1D//NExGAfskqgAY94AL3pTX9N/f3Fxne8e39IPP2o5kPiAvpsJA0CbvNrCSmL4ZXagjcB6hLZHN82AGWKGJGpyOvKOvu2l/HK73HKrBgPZ/i+i/mRqd4zj4HA0Q1azONo//NExDQakeKcAdp4AFbwosSSPRducGi7bWwnBkOp6bxu28avn//6/+Nb+/e/znNIE2f8SX/x/vec+YMjv///rDmh+hWz+9UJCIEybGK/WMEowc6Zhg3Uv12iXPGvLNff//NExBwYMeqsANvQmMYUTJT+CetvfKKJmciGO3jcoliHumGGNAFJFQFQ+FAbnB0BMKHi5/vxVVaftXCRLU7yNajCKQc/H3XPxSajSD5D////ofWKwB9SKXRRLwn8igA8//NExA4U8Sq0AJ5YcG83/VlTBopj/7sz/NfvdWkzq0xacyGpBD4dImJXE5avp3atfozWWl7CzPXe/hweuVW9Z55giKCIqaD4Ae1ajZ7////2tlnD8+1GeHw4lZ3Lcdhw//NExA0USTqoAMUScBsCAwKgL3pJoLIaLSQTyiRIqv8Kw/uMLhvQqAkCYk2S2rDKn6qFCgdiqHEwyapWMVWNTK0LaStPVgJ8SP1u////q57Kqm5TU3BD7lh6OdBAcDr8//NExA4UkTqAAN4McH5UBXKl+DooZN/OVXZmnRcW5auWtSmpLu48q0bzv6auxwUJCdBQmSSyMbTonI1v7JGkSRqJGEsGnz1R7iURav/////6anRZoyiFGFhoYB1x+8RG//NExA4RoMpQAVwYAEcSzzupxiobDBBZ1nLpWwa1cs0tNayxzOH0uqbSkepGGhIGSIaDrGCY9USkVPuYGvuQAVarLPf+mk+Auaa61uEPCBwTdg4NLHRp5XyXdlOCvGVO//NExBoXGmpwAZooADB3q5EDjU/dbBxhQaL/oXRmD4fFQ+/8l6WvD6Bwf/zu7Z7iAo4CAQYHCP/+Sx0djlciEYOEVlOKf+lpwmLWzZ8u8pVqx7kd89+Zj/lOj+vIdXIn//NExBAUyw6wAYIoAXfsRTqjJdjdFQQnuHGI0pEGjhEwuMKOGLcjMJvE2KPLGuQWKJi4oNCZRu3/Ig9c7r5BJVq5nX//96O52J19mzCjMQWqQv+D/////////N3fHr/2//NExA8SCdqoAcFAAMspVY+upSpcmoZWQ40JRVibNHUH7MJihljg7GjGu3FXJqk0GrNCJqjEjVmlldb9iSbGbjAvpF8Xi9U////////+bm4nT0pp/inHuZTi8I6IlCof//NExBkRKdq0AAhQmNjXSSBUTgoHOIcEufSfuZoqzY4EChFQMHFDS4Pth9aNNWu3aZhZgYE689D6L/x//////VFynx/fe+/yafsNxS6la6kiA8B2YD4LCjHjxAcRx5B1//NExCcRIfrAAAhQmO0POVCJzzLv0OSfhxA8IKE7H/YBikVTMIjLkJPY6j/+X////+ZLq33uZve8+Tm8uGfIEai77fd21q0pKYURS00pKjaOeZHFg+gXAoFdFC5lN42g//NExDUQsaLAAAhMlHjGOvXK1igUhh+9C3euSUlsuAADoxUSFo79mJmXTnC8y/k5u5zBjuEgIV9zkwGGbNcMLJmFAVY4a//L+QJxDwUWQWBqsGQVAQsHTrQqv7iK3f8s//NExEUSoYK0AGDGlMJS3f0eisaXGYC4I17FaLUGkqZBWiTXxfK2O6LgqKQU6JwOjVpz9DodddvyDgXPEQpDa7BN0TtjiJL/YqQ9qNH24kWuuqo/f/QRos/5PmUZUzFb//NExE0RAP6gANPScPHgRfNCEYjPZygAlt0komU2h4tyvNrBjK1P15a6SgQF6tIgJk5xL7kmch/RBs3OJHJP+zG1gx/fWn/////+ipZf5nLAg2s2huSoRFT0GiIhE7Ju//NExFwR4RKcANYUcAU6O8PkJFh9AbYAFQLpZHNIuI6HZrNSun3QbUe+3UY58KIq6GEf+3/rTFDH/1Xut1qEkznpHZoXIHngfhG6asoqZloeQ/tyOuKVK32rWcYysmF4//NExGcQaYagANTElH/VjFv//6vf/WWfmVugvlChCIgYzf//XZSiw6VLv8zmVT+twgdijKZRmBA6CtibkyXgvEBWgXTcxUCA2RhNmI1TIREApGLGpTDcG2/lvzr+o08q//NExHgRUYKgAM5ElP6hhVaKv39fo3Ur9S/p9X+X+z////5Rne/+iBPNXsr1OpoV3JB+UcGR4DYy7eqZGUOMWLWODdS7C1vz+soBAmf/9Nz//Y0bxO/Us/gaXnIhv0+z//NExIUSMeacAKUOmPr80vurF+7fb9TWH62Orqex7nAAMiBWNNjp6wTOuumxywgBTW9+6j6S/mX8c2ySrcB5AaK22wMl/6agQt/FMvr4vdjU0b1f63JRhH/tq/////6K//NExI8ReaagANaOlMf/NngKTQ2K6aBmoVBla5F8FsBIiAq6jxWP1bbFXBmkxTV2VssQtJRJJqGUgeTnDpmmcUVPG6Wg71kFmqN5jkQulj2d/qEtt41mwhWSunmgpvwP//NExJwSIRaoAM5ecOfhMouocqJrxCGncdKAYduz9FGp6T0tNb3YzrZrnYPeaXOzWNDTGT50RyQVSYUx0oFb6pTJZaJqV5bZlgqYvXQquSF3f87/zn///0LusBGBB0mW//NExKYRqR6sAMPYcFEj0bZKhUIAxsJBqIYQpmqeGp75+5PU8vsWs7Felq4dr6Ut70x76zbUsH0f1P0/S8sg8DfNZTqRkSishyniwK1yg1jUDSA3TTR0oGsHeYFX/7////NExLIV6SKgAMYYcP/n0EnIith8RG5eHRVEGwErCTgxMTBBTJdG3mgQLYrG/eRvaLX3vKrazfsPeZ7uM8Rb0ANBkBQXBGyFFNCZRlSsXg2RDT2e5YaURq/K/9CUt//0//NExK0XwTKYANaecDlkCdxmuoapJIbIFY3kJIC234gsaXRA0cAsyFCOdazMrf9/37SEY8SFwCFlESKKlVJiqICbBpF6mf40LN+pPKdneY//sajpbC2NVdC3KJuLEqoq//NExKEU4SqUANPScOUNcc6r8e3Zv///9hzi1KxrE1TqrgFXRd/595/P5n/TJIefvTkf2XRAS/XTYPg3/svn8GcQXQNkc4RAcABDuwAI1HU0O7ELRIhboAIIKRUicQvL//NExKAQuTKYAMHKcP/////TAe6//vZBuv/X/160R1Wuj0e6O05Z016Ms4qOqa7z3XW2jPNWYeg8PDhhI4RCY4Lyg0V1csPkB8UOKCArFkDDYvJl1Qi//f/////+1v////NExLAWExqgAHiGvf//////////K/8//9f1/qlR2zfd647idp4YqCEQxDImCylLOUg408eWLzFDGoZ2j0H48SHh2JQ3LaoM/+v////////57r//7qIj6i4iI5mESIjt//NExKoS0xqoAAhOvZn7sW1ukgix7ZkRQ4lyWlEUeNEM493BIPaA6HEAIQIh8DQNBlw4EINHA2FaD/+3//f///L///z/////9HX2rWz0c5Wd5y1c042qnNSc13Pd1cge//NExLERCxqoAChQva51UVDRqaSiUSLOPDw8IgigsNHSZAqKDBKBMVBZQ0YVKr0b///////////5f/////7f0p6KZdLM+d7UZjDlWxEfHUMcoYRdjDBh2InOSFw+RJGi//NExL8RIx6gABAQvMGg4XHRkWgvPHQdDI8THRsMEhYOKgkT/6fr//////T9dkue9V2osncw86e5tXMMQ01UkSKaxKaPTiJydzSQjImIB+UIyAkMIXH4gzRXGRYTiwEo//NExM0SKxqkABBOvcAvBACsK4rM3QjN/tXM//P/rLs0nymP/X///65nrT2pX/qat1SYz0dHVHRlLtNeccpiMYVk1ZpAgTMVDCLkjSg+NBk0HAmIAFBCgOQXhsIAoE4S//NExNcRayKoABBOvADAqJYtGoChuOjiqgkF39On/z//8cp5Lf//6PL//+t/6drtRTZt/mOp72mqpxNm6IWOQ1TEHiQ8PRgyaaYxqEhqLggCo2IRuJg8QiUNhsKjRHEY//NExOQRqxakACgUuTZcgCwVhVgGBOEAQCwhAUNGM+qt//2r/fzWWa789F9m/otf/Zd/9m/2/trqu7llRldGM7siIzm0JorsPHrMY0opxrK0ZMLiMUNGCA8A80biccG6//NExPAVWxqcADhOvQrB0KzxsEJhUdHDBGCgbInTKguYhe9odnTdqe0GPBfePukV/i8Cb3ge+a7rrWNeOywr5bdQNbkkx42rRK7vaLmu3Ku7fFNVzjN8fVc0tnO8fWt6//NExO0VOyKcADhOvJo+vrFNYvaufa2sZ/v75tEzauJVDr0a/eLBrStLZ0xatuPTVcxs0esUOtrqMu+kgXMTo72uWv6dyiVlErmA3ollTCDJypP5X1dwMUpLGb3seapS//NExOsVix6YAUc4AYCUv/zGK35ilL/QxjGMY3////m/////5l/+hjPUxjGDARjGmMYzylMYxjP0MYxjGMYpSlASivxBQUFCgo7+goKC1RcyFqOzyJneIavZ4lA3hghF//NExOckkyqEAY94ABZ//oTmmibmEEFHPnT3ECd8LBYMZRrD6gsNfl6nOy9Y4YGIgly5c/IIZZ48gmQLvZfJrfKHCk/WlSkF3ZykRNzcGiCz0WgPiZAQ4oEzbRodgUcV//NExKcQiqJoAcIQATo21kswlJGoGInrkSvGY3I3tkmpixGkaVQrf9jpVDai3jciAkgigvTgJc3q10cxAGk0OIm0KRbOAwVVwqBU6FQqdCoSPHgkFXBIKuPBN0JD4sPh//NExLcSYN34AHjGcEH4SwkPiz6+Mxmp/3YzHUxBTUUzLjEwMFVVVVVVVVVVVVVVVVVVVVVVVVVVVVVVVVVVVVVVVVVVVVVVVVVVVVVVVVVVVVVVVVVVVVVVTEFNRTMu//NExMAPOF34AHmGKDEwMFVVVVVVVVVVVVVVVVVVVVVVVVVVVVVVVVVVVVVVVVVVVVVVVVVVVVVVVVVVVVVVVVVVVVVVVVVVVVVVVVVVVVVVVVVVVVVVVVVVTEFNRTMu//NExNYPuHnQAHpGSDEwMFVVVVVVVVVVVVVVVVVVVVVVVVVVVVVVVVVVVVVVVVVVVVVVVVVVVVVVVVVVVVVVVVVVVVVVVVVVVVVVVVVVVVVVVVVVVVVVVVVVTEFNRTMu//NExKwAAANIAAAAADEwMFVVVVVVVVVVVVVVVVVVVVVVVVVVVVVVVVVVVVVVVVVVVVVVVVVVVVVVVVVVVVVVVVVVVVVVVVVVVVVVVVVVVVVVVVVVVVVVVVVVTEFNRTMu//NExKwAAANIAAAAADEwMFVVVVVVVVVVVVVVVVVVVVVVVVVVVVVVVVVVVVVVVVVVVVVVVVVVVVVVVVVVVVVVVVVVVVVVVVVVVVVVVVVVVVVVVVVVVVVVVVVVTEFNRTMu//NExKwAAANIAAAAADEwMFVVVVVVVVVVVVVVVVVVVVVVVVVVVVVVVVVVVVVVVVVVVVVVVVVVVVVVVVVVVVVVVVVVVVVVVVVVVVVVVVVVVVVVVVVVVVVVVVVV/wEALsHA//NExKwAAANIAAAAAChhoP+ySRnBSnTU//+FhwYo5cWmAXgio4/IITjFwXOsnDP5cNHQQHMFwCqIeTn9BBRgaIkVMyJlUp/zdRoRc3kXImUCoPJCkAD5P+X3TTdNOXxP//NExKwAAANIAAAAACG/hbMZQnBskTIIKU//L7l8vm7GZuXEED5GjvFxkYOAUoT5bJMfRGEh//5gXCDn0BzyfcmyLm6JfN8gw+CWYmjMgJBxkyWJsnyLEUUwvBN/ysfx//NExKwAAANIAUAAAFCMwUJI1mkh86YiCt0jXgqDGUPZHekl0whA9b9VfNtZDO67nc+2dNv5/c5kRFbNj4OIs0ASGkInN/77qdZdHhMzGwfDQnqut/O/Y9repfSZKAIH//NExP8pIynkAZqQAGUfbZ/ZHM//LKdrOOyb22XqmySZxJxdb4jm+PjZcf93vZsimf/DEGWxlONjKUJkbTXlMBDBX6JywzALMYHTCgUAtpnYGEAUwwIKiqMcitfSWefu//NExK0h6yJMAZ1YAGOcvN3/MV7V/9j/m7/Pn+CKbDvVJAjA4HxtsTv1DjJuj9zZADoLHmIYIBueoEMlnzAmiDHcSB2lxCLufCjGTbXQ+UNjX8UhRcqfWD4MvFnvb8EG//NExHggKgJ4AdtYADnrTrW5QYFxHXgpZI3UGxhpAug47i1QsSmOhzA4axZ6D0Rk3UShpqJ5vrLnmaCGyaecXrZNN0zAd6Hx3pugQxcxiR1ehkRgiQsqxkpZkgPMLy0r//NExEof+gaIANtemB5CTq6mxI+fqRYaGVVHA6SyPiueLWlgX3fOKSUrnOZbzwMQI0W4F7yBwv/GCj7qiZAzLAuUIP528rcc0K0+kom6hRiHI5jfgtCTof5R+c3QffoY//NExB0QwY6oANHYlNndSdb/KUKYzPNMVIFUztrHRr97QuR2etvV2eyctbN2ddecsW/opb92CkGTUh+FQC8cOK3iAhnAwmrBjYlOXW/YfDren5gGP8yJMZ+5Y5dBiGPZ//NExC0cocqMAOPalAwu4d0Vr2nTCCmNS6PUcIckrUPYtDkgTE8iXR9ABaBVP2Lw5ktKrqbUoyfuPZ0UxPRPVVLt1v1laCwOf/pf/JqVp0PnULrXbkBig0ICVRhn8NFg//NExA0UMRqcANvecBDTooBeRf3KGiMbzYYBo5+jvJstfyCdskaRfDYLlaWR5BtvEDX/zmu/8yW8OPdhrI8lo1jP31gURhcf9aJ0P//q//+qrXr9kRgAW/fNeUnVkGxQ//NExA8VOY6gANPOlGDp+WS8HoOiLEhAdiWX1hDSxw74XB971KxtbTD0zErn3+/5756OYjnGKVlCzOCYye1f+8xF9UOzyJxQIfxEeWb/////alPH90Cf5lVMzP2w5D59//NExA0SiRqwAMYecMtptEyMKSq/yCrzXblRRxv7mOecv3TMkJktVWjtLHEvprc7f6fzbx4TyLnLE4VvNM+AbAQ3V7d5yY/v7Q+q33+zoLzOZdggdwzS3q6o8gvTcvzA//NExBUSiSK0AMYecBZOZrseYQxaz/Jt3q/t4u9swlaCNjyVNIbgfUf5zl187gKnf9FNE381cLUukfXkhY+d/sq1VdZ6utiHl01/4mATtm72AAsZSV/WMiAZYTncbg5d//NExB0RiRq4AMYecPq/EHZs6qxmSnu9JWA7kdDm8qutv+Z9/4Ea1sSyvdQNRoqQj/+tKUf1KqTX6iAl7ctslgYCtXxfdGZYWap81znhL238JQgOi2PJhoVN32HTmz8g//NExCkR+R6sAMYecOE40uMKE1M1viWLj4u918yb+btUa0bxQ5Df/1uX/9OX4V6YduKC5bBKxTHAYG2scOEhpBjyirkuJnFiyvE6S2brgnSqg0Xy4wNQkiGpMV98Qq1x//NExDQRoQqQAMvecLtv51i2M1rX/L2LDQNoV/2ISVUSRqHCOpBaRnz3f/3bSnWSQ5xc7z5/JSnnn3+IXNz/y/hXQvQnPd0JzSwtzL3dtwRB393SJRYqgaBAHKVvpGqV//NExEAREjKgABiGuCecieQVA21b1IzfNfLc/r8qIieOfP///7y86////////3vneVOdu/vMWwQZDwU1U907nFoh1FDaWQ6IhUAiCemGBiZgQr1m/SZOqAHQwnaeAg1N//NExE4W8v6sABBMuTMzk719KUT2z0GkD8w9D////////////x8v////////7WPqP5/mVltqRviVWVqTVZhbibsnS4FuLhj3NqzyPHg6IA+lFw4WBBIJceoRloJ6MPDu//NExEURox60AAhQvE5VB///////9f///+f////+vMr1+t51XqhytOSc0/NnnqiHFSRpokGHuOtLjkajwlDgPSooCQHAXFBOTEggSFIRuUPnkweDRf/r///XVf//mST///NExFERYx6wAAhOvP//p+erqev/rZ0ZGZ3Rl0McwfKIPqhAw+rWNJnnjY8RDGqYYpIKHjxAo40FwsKjSgkg+JioajcYFpEmepYonJ5cBoeDgBscB0ZMz/8mc/a8nW/W//NExF4Rqx60AABOvJ1GHntdv//5BM6b/////OR5r/5a6Uvo+qSzOVL1YyHaYwqWwiScAQiKkFkD11UpSHILB0cQeWEQUWFRjZq3zqhglqJP004AICPooqlkMfKbPqpU//NExGoUux60AGCKvHf+zjv3Y6b+IF96kXEtNwV9SwJQGACExxb6JV1kVfbvThwQWHU07V/1//P/H8QkxRgOH/Y76jBvUrP7oBQwlFZnMgLSYxKcqFMIT2kYAZ2qDS2L//NExGoT6bKsAMPQlMk5Q3nibxcX4LQXQhjhmAsN3dAv0oLxErmCexMQi0d0fne3X5vUlYDHq3dNTue////1Vc4crw4b9RngM7ZACWjk1OoV9rzY2ayq3eiLXZ3/1ll+//NExG0TCaKkANKUlOCyxf/bf8HXzXX/gq17F0iRCUK3nErLq0rFGzhine6Kulv/tkWdRVUFWTEXwUcMUGEmKki+xmAJEOo248aS/NvPtWXO3vpNu5Jv9nDdcn05dMba//NExHMR0R6MAVl4AKPqrjwGhMKw658oL8Uy+ARH5Pezv/rufqyevRMJhybiebmv98/8vJlQO8n2h/f/H39c9fXjYQhpVybvYaHB18fP//P/V/P1//m7zQdhx6dnE13o//NExH4fwypUAZpYAByuHe9smsQ3SfJvrUXpyVBFzFMuGY9CgyZuXy4alI3KSDmBsi55AYg7x7ByzQlA54bgwiKLPuWGpx6QlCllBBf91Jspq3dFX9u7U6kaaHTZzck3//NExFIfexKUAY9oAUfb7TFSRcSQMmTSM1sX3NXM01sh7Ps1D2OrQQOl8yMjBNNJPMGXMFnzdqcYUPOylZHYSCwxLlYayJr69c1f13cDiSMOTiha5abpGuLf4qeqlEr4//NExCca8xqsAcVAAb69pWIj34/l3n+9LqS7mJruVdkdliPnqdY7uhGNiILiJvlohJsZSJsWKSZB7wE5YjjA4DshgjMHiCHxpEpIfkC7ULwWOl/9f////xWpEL9Z6/9S//NExA4S0yKwAAhOvC//7U139nNTX16fe67XbZ500qccpj0djTjVNc09z3dqnoRJDwvMLkRLDQaKBKNRHEoViQGBMCIPjTw2MlVqF///////Kdf////////+lP66JfSr//NExBURcyKwAAhOvFF+Zsh7EHnnmnd0POPOajkTpAqhWNB4meMigVmDIkoIg6MGGBkHg2AaB4FRWCwZKkIa////////////P////+/7J2/9K7nuutWWa6UNPIZ5dB1T//NExCIRcyK0AAhOvAyVLnnisfQTDcnF40EpiRpRxYSEgRyoij48PiSTB+KxKDQpNm/cogWFlJuuC1w+wZf///A1/+v/zN/////b2TX+1V9N3o7MrKr3tplVsqzDSiQG//NExC8RSxq8ADBKvTFRBIeKnZpiiSh5XFTBFACOwdjQFaFVob3eSqLB0JqHolI2Inu71Rqvg/gMEzW1rLj6UWscO3b/rMEgS9gYE2KFARthou23uuEoqKn3/r1OrPiy//NExDwRCOK0AMYKcBv9Lv////LVqldbgQRb2QSF+lQg/LrtqhETzY4DMfLPUEyFy4E525R4m9zJNcs5hSAyXh7KjkKrdctdUHKOs/h116CxkbcIsh+6p0qFajuLZ6q///NExEoSQS64AIYWcEgFYCfQmbRIQmpJRPUtKsosuXYnb/PpWqz+eX/h0TH5loQgXLb/6cmKzbzOVg6IjRyKgmaDoLDRSLHA7/hQVFQib4+4xcP/94NKG3xfOxhthQ05//NExFQRaOa8AG4YcH5/ftpombKmE7u7ZmVhXoinP3uNNiva58dUxcR/5ZzkDATz9gzonxqX56pXwwEBA9NAEf9+IxAD9+RT9aruP8+pgR1anVq806ApMMraztY9fEsi//NExGESiUq0AMYGlNRy33uNmM2dfrKswKFXresLl+7jvyl/Vvo/3mVlREFf/6hEHjX9X/7/849fpFI7DfU2Ro1GtoiJtryy+f8w34a/////r/////+ui1T+ne69d7HJ//NExGkQ8VasAMYElNqnRVTIxGp6ibsH3FA4QPjR7BwgcDguoTElMKLVCDfL///////1F///ln//9f/8/etU+15z+u5z27OiohEVMJzDyAmISZdTSQeHkDOYaMCgqmCK//NExHgQSxa0AEhKuCM4SiYblQpEJRAlQokEQCgaiuToD/////////////pr////+ut/+m376pY/LnuTOGlGHUKlS5yGmnFDY2G4qOFzlzDChM4wcFgkjU4sLRgHRQZh//NExIkSeyKsAChUvAg9F4Sjx9UK//dn/8kc///MT///////9yr/+fv////8t+/bP/8ffCl5OW/TaENiNTie1MWYsi1M9MeqyI0KNSkjhLN0qeUUkFHJJFoJcFCSrd8Y//NExJIRSyK0ABBOvCuSfTpqkqEguxC+vM9/XhiGIw/fyHDCVhPkHcQ5ZG1OlgxKVSpfOlLtk6xsGX+TLVvtGDATAQ6kzBUAjDCqS6yCrsGKUv75KoDGNapd/C3i00Pt//NExJ8VQwqsABBMueKi+VJDVQEhMum7PnP2/s9Oyq5vUtzBqJnPVVX+2019TvaxlCKlllZ1vdO5/55zZUioh427FNrjbTzv7NlkZ/29XnZBFznO6FcF/6opyioFAaKZ//NExJ0T0q6UABBGuXUghy9e3dzeaIvwjhGIJ2LPg1PgudNj7oQNhW0kSl+xaxj+74TbP/xHqe4h77jdw553cuI9zsN/3E/muzEKRAiO2vEKMD1ql+FJzZfc0pDBtfdS//NExKASCep4ADiGmRt0wK04la9IY8/DSy77J9L420IEAPk8zJZ+xV/Lyw5xZDgzFzbhhnvZE6rHaSy71Vsd1Wchu///0/+q3frZQ0hgapolFPU06DTJq9JrWD/2aV9y//NExKoSoSJ8AGhGcdgA4DRsr8AI2F4Ec22pX/a2udUbFc9/lSXbPP7+X+9bWISrbWl+pWOcIFFDcPXwgmf9EmwOprnWlPM1VP2RPccsbkpQDAqGVy5+jAaOwcDFPDIN//NExLIRsKaUAMYYTJmBuAOKBclIoRxVXR+CThpk0IUoquF5K1zfGa5/+vr///6sl1YylEKcHKWpbljRMO/dUrn1YkIgA0oTY4wZ2DAzk50aSKjcVgJmsGxCxEkFAUZ1//NExL4VqUqcANYElajeBCQAShBpXNu/Kr/O09XDL+d///nfdXe3///+yGSQaU6X+ksvpdNVYbS5xgEmQlIO8VRFUBhmicWItvC3xGBIcjlMfoEkaS1qKCNA2h/PVGD8//NExLoRqWKoAMvElAf5Y1e+HAgGCC/d79M7/2np5////POqhwRwpjzFWteVuzcSQ9M3Zwcmvsk6XNOi3DfRxrq/lcmbhYtN2AnQCq2Pz/EPFhddzEMATiTM5bxlDOEJ//NExMYSCW6YAN4ElSRjQEqIHImQkaHs9U/Gvtgi2xHh2VBSn374Sng93sQABAWCUWZFlGb+u+PuO33jT+P////+Oi8fSxn/9QbAdwECTDmzocO7Z4JSF2oxsAlpyQn2//NExNASgW6MANvElB9O0w06EgZ/g3BAYu4CEO9UbENmtRkj6xEVr1uyqawWVoi7sgCIDYJkAkDVqgfHOxM8etM3Sik0klyWN4bI73nuKtrZe6GfXN3CAJo/+TcE///s//NExNkd8h6MANvQmHk91S2l1Vf42omGpKh0N5wBSloU6SgwdFnDkAmLIVFsl0G3I20OzF1O1dsTRO0TUEsDIIRBj8EKKx/OGb0CKa0aECHonKk9BfPu9kx83P8Xa1rY//NExLQZMZqYANvWlFv39o1Jj//6fMKrbiAyZNCMfudvn5LqPXHjArtYtQ0J4hZglmaj57DB89tG+yGr9e1KZYmxWF8METVxTpky0uuH0eGhauaYrW6g1zG/zje/uv+M//NExKIWKZ6gANKWlOtea17UhbS77GZUqed//r/9FYCm3CCz8+BgWIpzCCabQchNRwGR5zLI/QzKlSv7KYkqrQ8ymaLn5PJewpwCCTyyObjKxd99EvAmeFQGERMjKETT//NExJwWmaKcANKelImhw+KTKplFOJXK07wWAoTDYKpqLpLvMHDo5cMRIOK7SENyP8GBFi6vRtY1iF3lFlnUOVOuP/5e7+DvYbmSiFDXO0ff4S2flO3/g7vhufxNURd///NExJQU6SKMANZScLU2tUfUJEP88tn/6PVVQ0XciCYFPBtlLgIBLRIAwbvuhjsJQppI7VV7zajw8HoezLWOfhHLH5wC3mNCpAuZ73UE/yid/HS+P3D2sd0S0kAvdNTv//NExJMTSRZ8AOYecHMlXr/+ULGuhY3D8cGQU1cUft6TAQcw6hFkkw8NXsMBpiIK1J0SsJWlJXOlcTIfi1Z1RWG1JuSejUyQ3/gPJ2A0AMMVMLk/EAkI3pi/5AcYTIwT//NExJgTYRZ4AOaecA2sSavvnP54f+f/7ETx6pNR0yMp2hzNHeQ9Nw3BTAWBgAGYLmAjUP1lOxQUW+ZTJkffgG/rGZb21vGU28eZSzW5TAuWPI0/kql0TVA7VmaGQieO//NExJ0WGXKYANvSla5fQ60HKxlYzR4KcNZTw0Sjmj6con1Fj/0j5+Ym+9hZpeLP/Tf//+fj+Bg2TXECzXIf/9VnVcMqt5bgow5eexlQghMpf6lESJ4BQm/Sp/0mOVDL//NExJce0dqYANYemL/3Icf+at/mD5k2o/zNrEkX7jtA9SG5iGEWyLJEdF1D8mo2RGw4jK3x/FWgI4BUfoVwa6////9NvfquKFufcHYA0fk/YwYofcWC6HGqFhqCU+g7//NExG4UqUKoANZacNX0N5rcnPyU+4gJl6hAhE62CBjY4ufB0qLOdD9v8X/F/K0qq/r/////+9SvvV0Rs71XLHAtdlgSgG/GmZjt5bPZwudF+X6Pzfbjw6oMh+5ALQUL//NExG4ReY6sANKWlKnj0UIeKoijJgyPg0GyoAqpPiYTVft////7bVtoilXDW7gAMVt2wtWIg9+9JDAB4S7BcX8Fq6BlscfHG53l3y3M8ni3zgY3chRi6/NnbtNhNclw//NExHsRiTasAMyUcJCra888DuW6daIBUmd+tezEMCIQsqlSnmiQdPgk4u+AEqAhKL01FH6bPWEa73dw16ttdJN+W/bXeilKSpqeJJEB0vNWNp7mDa0kWNbonVCrzv67//NExIcQoUqoANHYlFb5ZkpDA/KRCSbBA9Zt6oNWPAsMDQRhw4DFjy5YJCJiLWF+MWelYdlOgWC3+bv73HpYDqn3quJX8d/Htd8xo0kG61t9u9Xiv5ysZ2ZD/C///7nA//NExJcR+TakAVlYAYkCaPMpPVifK1m////96WYIkCJear2l3NVObLb//////f9PTN//6xYOvqsBwI//+oRihNNVmbtKODigzLoemzDqNtBTZbQoUNQ51G4RnWdPL72///NExKIg6mKEAZp4ALuvmPr5vjeIFbYxTfu/hXtl2rVYJuqjhn2xyWgRnsKO7YHNrlbUuys+IOw++OVvh4KmgkbFdJx/////7HrV/umilEcaZkB0DLplPwB3zzmBJZNl//NExHEW0T6gAdl4AOeZmTzA10G9G92Xe2hFFmDgNABoHBOIQtSnMWxrzCuXR4ijkG0hjmfygoqx3EVAjwG5QpJuZBjgGEiAfzCpmhP1nBo6iRZSb5g/S+F6RVos64HC//NExGgP2T6wAMTQcDDMJAmBsLDmYpB88/T0jlDTYPOhBg5VehNbDFWbvyoxK0KWeCM0xBUYVKERzKBHQN8mBjVncoG8sLjaVW71v/fwgsds0xLHCoCQBmcOTeBZm6i4//NExHsQyTqsANTQcL9m2JccULA0JXFtjKVb0OY+q+phSQAUL7qZsqMEktMtNpGlGX8MB4WYc5C/2tDPj5v8crCwvVNFZ3ldGRq8QDgaHCEU7kpe9GOr+6UZd7zMrkkF//NExIoSgTKYAMvQcNDiAmhmw+sQv8L//+jdLYEK4Ewyn96sXRVpaaiBGcEbcT6TsXvd2CWC3FpAAYDFhwMAgUByMhBV7BDc3pRYJU2yiX5fv/fx+fOMm+CtafHaNHhK//NExJMTQeagAGGKmBi00Tvu0HszesnTZgdcjUpjUfcQWuqbGHCkoTmm+KMjVY5tBXDdw6o/5ohy+ZFO2/eJwZyRODjUWqAjgyPSLLepLavm//+tgRZCZMl9+2c31Dq3//NExJkQwSacAMJGcUywotI+ssbJosfoLJzgjYDQmYhGCUs+Z/eQzz4ZDWOQOiFKxDP0M/zyZzhuhC4EVOvKXf/rQ7PjnFDgupr7udmUPgyDBMKCG4xXtX30jEKNbrqA//NExKkScYqgAGpGlF8/Lw6iWHQ6nZUMSoQSwlcg89dt3b8/vqqO7Fmd68GpTOzN3v6a0mZTiRMKgHbpMKUe2P9Cn8LrMDpaKIJ7jCwuirVVpUPEWKeA4EBLRY8qyf+A//NExLISggKkAHpGmdmzTmRKHgI7j9ellEh7jYf/LLd2ny7/MPJ2mez/1U5L+/StkdLhDPXVnMbkGlTtsta6yA1Vu1LpKMW/poDgBCEW33KdArF0Pw7Ix1E6blGMas9+//NExLsSaYqgAMMElOzlv/5cw/+2NF6P0//ynO5X5ycpGmAwfX/8kqPVifHkSaeQStnRxaudhyBx+516WuuYpXt4VR08rIhuHUtTqpTjsbxf7n/cg/v/qi/9ZNzfI+/+//NExMQRiYKcAM4ElHePcdF/UgySrLULEKd3+HZ2b9V4hRWEg6ZhhBkdgC/EzWXiZIJZyaMvCMvNBppWFgQ1SEQ80ow5glPerKybH/9mf//lf/+xF8w/Q32/05SvgKAh//NExNARKX6kAM4ElCUo56h0QIkIiBga8t/////+qmkT0rYQIYoMQIbUaR6NfUyiZYtGZ4HL6EDb28zAS7EqeFJYkUwVMRxcxpRlfDJuqrMdZ6e7/3BuX/44X1EUtoIz//NExN4R8YagAM5OlHX/v1dKBQvsFi7qoXLNUUuuo/0JWFjDzJWgZhiyZZiFwUY4Bxx4eizUftrSDqIqAWi4+h53EwcuiJKceoy94xHkOIYC9uNMxteuHdPBPf3cmx/H//NExOkVIYqYAN5KlKFmjYIl4cRR3BcfNf9/y/zcN7Ny5KloTdWSuGokOikw71zAwRWEdIwWRDpK1DkbAuYgAgCENJNvKIxhDYOn5CVQxibyd8CxVh5UZAlbLeahiD9f//NExOcVQYqMAN6OlHn0t91KJMS3FhKYEAQi1huJZHmHanKiiOOEv31qWJTFJIGjOmpt36FirBgIBGDDx4iYBscsoYQPGmTxyDATDL+XSqIU1rlRdtnVJLHWr1ZsE0BI//NExOUVyXKAAOZQlcygkAHrW8EgfnbDc7yaLxGma1aD2xpsvY3inuf8Gz/lnix7///oR+PjFyzp2RgCBAyMtBP0GSJgN4EBphrA5CncZa00lwpAQLiEJS5gZEoAgaAO//NExOAYcYJ0AOYOlB4MjcdCwnGg6NyZIw0esSa4iGgvF5A0eMvNHB81GPG42LjoP7/v7BgcLEBHEsR///xUJAOAuE43PPEf///8bBINAjF4TlhuPnN/0///f5gvHycc//NExNEUQS58AVtYAFFpcgPFReodgJL4XnGzrcmymuzmV7d119/3xf8OPX/MfKU1Ffz//xzW6qdzG5vzHNf7Xy1eqpabfe9iiX8Jn77Hsdao70A3QNLeaW4uKSgeSoex//NExNMhmyp8AZs4AOzc1LCbUzSUjaIgIpm9WGRL5PvptuYz8extD2XkISkqeSEh8JfrCEcOHkTRAEdUYyO0vgb/+3////9v/X0//3Zk////00R+cn7oarHuaep5Q0bP//NExJ8fsyqoAYxYACZc9CinRw81Th485ihUbiY08SB41BYVE4Qmg8AmTGg+PIA08MgUHS4VFwPQeioRR4gIg0EcXgPFIbH16gX/////////f//0fv////+6Unfbsazu//NExHMW0x6sAcI4AWszDjoxpYvVnPRroceWNYiMKwlHiYeG6iMTLCoakxJHAkB0IoisIAsDwEFGB4IkAcPBUHoHjU0AP/y//3///////+/////p1T31t+j51dEOVlZn//NExGoTwxawABBOuWKqxqpsejmmmqPEh5DyrmjQgappxJgoExpUKkRIG4QiKPCQeLSpUuYPBodaf/7/////8c+X//zG8v///83ramnbpdutlPRkVDrGKh5xs+iVR2Sa//NExG4RsyKwAAhOvFzmHiBM4Tk3H2VyhwjRYNnHijCKPERoIwliYwH42BgrJpX3suydq5CF2LeAcByMpby5nXPq4AIZ/OQnRv7E57oQjHktt/2wSN/////1//67/3XQ//NExHoSGyKwAAhOvN/6N/+YxnUyt+YzlKkxuyKJQqq536EQHldSfaKf1uq7U+Fxs8EdICIIfQGv5B9e9fJT8I9cSHymikVAEiMYFwDxHZxQMWcczFEsipw0tU+09+nT//NExIQQ2xa4AHiEudX591ccca/lKt/+QwCBuafwyYbTNgb1BGAkHUOkcDVE02onkNcP+rDPS2fyRQ9kJi7TACBoEGbK03loW5yWJ57BFFuYs7q3LVLDUixjgSrn7uEM//NExJMSEba0AMIOlB1LrcJ4eORwo68tX2LR2WH3qNm1ki+o39HpG/Ud0iSJRSY9RwgjCRmYl4TM3cxHqR1mJeGMUaVI36TdXu3U9SRmpRxyNlXL/2SlLg49ECEuJGBP//NExJ0RUT64AMTScJgsNkgtkiQ+dNPN/mP4f9a/g+/Yd8gDA1PqjQvbqCkox7BsNP4KcEEuhSs5S4qDCgr6Fef3FBoxYd83/lggMnkBMspe3QB6jhfUOk6O2VyaouY3//NExKoSeaKwAMNalP7TKFhowOAHADAPErioemHoSDUWFWKhp/6vu5j5/b51XY1TqvUWu83KwuLN2sZsrdTF9zmpCgK+BggEtCErwmXmf/td/r/yv2ioSH4eAqKFhIQ4//NExLMP0UawAMtQcDUxMaHQ8SEjNff02CM7+n/Z////USVIzsMh1hqSkPcelHgC0MkGLILHelH7XT8vcyucPI1VVQTBKhCKm0MMDTwqE2RqQPbFdY8wHHiig5NGl+L2//NExMYRga6sANFQlAxZ///1/u61A8eizUPJx8tROz+2fz/iHt98yBUwhqJrjAQWpYdJGgpCQqeKSAOubFSQLb8VHnukLciM8itzfDHtcux7GYs55EvF0sb35/f/+lmV//NExNMQoSKcANDQcH1aEZitk9pbDJjhmQK+mwnjhl06WT//9m5mbfwjMHKJmxVtCBGRwPgIx82Cp7WHeAQ5qyvLgjPPLI77+qRO1S8uEZKXP+wjjHJnFyyn/xv5S+Q6//NExOMRIQ6UAHlGcKoYiJcLDa9pU/l7blzEsgGEGq9mZFdr0//9jnnc0ORE1FlKPoisquLKU1GkqI6HLBjpHc+nT1zL/I+lKlf7IZleakhdf9K+iEZHn5P0/M05/ue6//NExPEWgwaEAFjGucyJZppowO21izCIR1seUOYqDdaJfUMhh1N9sZySMp1occ6LI945oJw5VYpvO4lkHFK1uehCv2JbwrfOnyr2Kf5dp6U+mhOTZ+qdfOqecfJ0OQvu//NExOoUqx6AAFDGvGrFxP+oZO1t6XRiuR60tHLE/CUhlB+1cVf78mN4XETEQlmWYHWDQjihKi61KHVge5SLouDg8N8XNyZC2D/pMzseg682ofwVcITpVx5Ya6zoSFxf//NExOoVEwaEADjGufzDhx5s9opot9Ru//uqhr9ScFxktxHTg4ZVkEA4b8BlgDZgadJHvU5jgiudihNK0nIlGAitQRsER1erzNMzOZmMPu3DEqrXu26mO995/7/n+u3///NExOgWGwqMAFjGuf/9SgU6NZaTs9SQwUX/s91jgmcSv//lWmrU9KTILJTECq+CFkANiPaXMSGQDlgMPIkdkRNGuASxDEch4NVEpUboFMkBOEpEeGghjnK/xLH/3j4///NExOITKIaMAMYeSP/++1CEIACA5RDUyE1qd8IZ//2wP//9TM/lKqs28Q7DbfgKpD3jdRwM7FnIbuI+E6nJrLlB5A2iljxbYJfn6tSBcjSVxOleW4qygbX5KFhjU6gl//NExOgWsZJ8AN4ElIRBTy6R+lta3enZggFg6Mg9NKT3Q61asa6ygaO3f/qBAKHd//9pJsNeuoGpG7mPSS+MmBSkSF5wsOCasSiwyphMjSMLcOFZXlD7KfkerTC5NjF1//NExOAVEZKMANPElOaiJROB4ESyJgNywvAQOnLPcwmRS1tElfoo31SspD9A9a27BM72fanZPSwzVeHTH/6yYgMtUz//0or0GZDnKDUFZM7Yiio5pjDLQUMwE2ckHPfk//NExN4YYYqUAMvOlFC0UH+oKTLsz6lb28JcqXtV9IzlrlLHoGkRIAeOMNSDDglnnHi0qAkH41MH2msl+a1s6zqzjzM7a///9KIYSAQjKf//VYVYqoYvSMBRzN5ow4bJ//NExM8ZQY6QANMYlJHdYVEg8aV9JUBz2HzgazA+OlMtjMo028X764PfX57aa1t5wHogTIFwc0S4dBJOHILkjamct9v3xu+6du951eFf/oBIPCX///Yqqqpub+QCcoFK//NExL0XohqQANLOmN/hVsPW2cqOmVeMVqoIXyPKCmcFmmjF1M2+zaad/zqHFlYLgeiBCWNnJxPYsaOkxIrNWxn3MVtN0nEjv/1zKziv//tm7XiqkKqgjL7G/Jtei5Yg//NExLEVkZ6IANrWlAkagOWmsOsVjSlPWcElHhFqPPmtdv///qiGHmDoqYiAUIolmCcYLuPCOw+PMrNZ0f+s6qGy4t//1X//539YERVJ+GEjTM0RokBigImRIs8lc28U//NExK0T4Z6EANHUlFzWgZBxJxRjrW1f///06HGx4qSHRYXDTuHhjBEYEBFnKz0m+myGR7i4939mVdZ///+2ioaqlbit2EU6/Xea0NAwwuhdUFZSq2owpgGd3EzlIz9U//NExLASWZ6EANHOlDv9v///2+fP0/CoK1Kk7iXTT1MK06zw0pxZKlGCoRCIsi72lX///6Ef+gVqbi2ohABlQO7KXq6X1cqXtZZy7t41TOoUuhkMZ6+1DG///9mZr4Wm//NExLkRyaaAAMiKlBYWFmZlFQagKgKh7TB0KnREePQ7UDIlBVwa/lXLDVUEv8eh+sDBWYSgKl5w2ilyHBQ+80NAREQoDrkOuQaEglCQ8JA0GgmdIkSxY7qHUBUMrBSd//NExMQSUVJ8AMlMlE7aM3YotbURZqT36Pd+1ykVhRCbIF1nI05MI0ouCmlFhFHh8J4hn9vmZaK8J0rOEo6ViHBsIDwQ5pCD6O3ugUcJR0q5fdHX8qaUZ0EyDQ86AxOC//NExM0RSUpkAMCQlCDjteNQ12N+JwyEUIJhZ31oEJBbcSi+zRsLK7UBzOOJal/nUOzak2X7ZNSPNY6GJFV9QwcQZCgKkoYOMORCgqAYJG0hI0RFbooBQr4FYEzNLUCM//NExNoQ8FoMAGGMJBZY2sEjqyLSITMxZGkWPmVVGdABhOAEoBobAkaDRYTFQkUONRORoKnQ6TEoiEoiEQlERIgzSRDQdBQKBUJBUZ9H2ngmEgqAgKVT/+PGDxgCKp/6//NExOkVAbn0AEjGlMaAgKAhKJSIaPBMYBS1ElHMVZuH+nEWeh8mCfCLTircJ9ZMjLMjMjLkYSMDCIy/0EjA1hCRgZfrL8stlnLLf/uZ2GR3M7P+yWXssll7LJ+ayyf9//NExOgVOVX0AEjGlJf/////9rKR+zWOh9YMDpppEExBTUUzLjEwMKqqqqqqqqqqqqqqqqqqqqqqqqqqqqqqqqqqqqqqqqqqqqqqqqqqqqqqqqqqqqqqqqqqTEFNRTMu//NExOYTaFHoAEpMJDEwMKqqqqqqqqqqqqqqqqqqqqqqqqqqqqqqqqqqqqqqqqqqqqqqqqqqqqqqqqqqqqqqqqqqqqqqqqqqqqqqqqqqqqqqqqqqqqqqqqqqTEFNRTMu//NExOsVuv00AHhGuTEwMKqqqqqqqqqqqqqqqqqqqqqqqqqqqqqqqqqqqqqqqqqqqqqqqqqqqqqqqqqqqqqqqqqqqqqqqqqqqqqqqqqqqqqqqqqqqqqqqqqqTEFNRTMu//NExKwAAANIAAAAADEwMKqqqqqqqqqqqqqqqqqqqqqqqqqqqqqqqqqqqqqqqqqqqqqqqqqqqqqqqqqqqqqqqqqqqqqqqqqqqqqqqqqqqqqqqqqqqqqqqqqqTEFNRTMu//NExKwAAANIAAAAADEwMKqqqqqqqqqqqqqqqqqqqqqqqqqqqqqqqqqqqqqqqqqqqqqqqqqqqqqqqqqqqqqqqqqqqqqqqqqqqqqqqqqqqqqqqqqqqqqqqqqqTEFNRTMu//NExKwAAANIAAAAADEwMKqqqqqqqqqqqqqqqqqqqqqqqqqqqqqqqqqqqqqqqqqqqqqqqqqqqqqqqqqqqqqqqqqqqqqqqqqqqqqqqqqqqqqqqqqqqqqqqqqqTEFNRTMu//NExKwAAANIAAAAADEwMKqqqqqqqqqqqqqqqqqqqqqqqqqqqqqqqqqqqqqqqqqqqqqqqqqqqqqqqqqqqqqqqqqqqqqqqqqqqqqqqqqqqqqqqqqqqqqqqqqqTEFNRTMu//NExKwAAANIAAAAADEwMKqqqqqqqqqqqqqqqqqqqqqqqqqqqqqqqqqqqqqqqqqqqqqqqqqqqqqqqqqqqqqqqqqqqqqqqqqqqqqqqqqqqqqqqqqqqqqqqqqqTEFNRTMu//NExKwAAANIAAAAADEwMKqqqqqqqqqqqqqqqqqqqqqqqqqqqqqqqqqqqqqqqqqqqqqqqqqqqqqqqqqqqqqqqqqqqqqqqqqqqqqqqqqqqqqqqqqqqqqqqqqqTEFNRTMu//NExKwAAANIAAAAADEwMKqqqqqqqqqqqqqqqqqqqqqqqqqqqqqqqqqqqqqqqqqqqqqqqqqqqqqqqqqqqqqqqqqqqqqqqqqqqqqqqqqqqqqqqqqqqqqqqqqqTEFNRTMu//NExKwAAANIAAAAADEwMKqqqqqqqqqqqqqqqqqqqqqqqqqqqqqqqqqqqqqqqqqqqqqqqqqqqqqqqqqqqqqqqqqqqqqqqqqqqqqqqqqqqqqqqqqqqqqqqqqqiF0OBi9z//NExKwAAANIAAAAAIhBwMDgGLgAgcDA4A02IIOTTYBk2IIZdsTT8RH7Xe+IiPHe2MIIOQQe9MIEHACDk02IEHABByabGIOQQc9PWxyEZd3d/+O55NNj7aMPJk2JpsQh//NExKwAAANIAAAAAMmTYBpsQQcmmwDTYxDLtiafiIz+73xBCPGPfMIEHIIOT0wgQiBV/5TD51mWh1S/9OuZQFQFC3/SZggKmIwPzRNQcSF4ASP7iDyMHADeP93xO5MA//NExKwAAANIAAAAABWIBm//4hOLLHGILjNm//vZhcY6BwEOIqJ3FV/102st1jWDbA9+XwxuI3FAB0//9TX+7lMWWSBfMBO455E0CGC4A/T/////DEgyAyg5hOCUxBck//NExP8fixkwAUMwAcUGRNAPXGXGTVx9ca6nQ/vPl9pkAZLLlmnS5bFymiUwuwfwbnjzpm4XoL2JYPb5gyCmGDHiJiQiV/PKZaRoCkiVIDoSQl/88yjRdiwehNNBgGN///NExNMiMyoEAZyAAPp+fQZAgFIlkC4bFIsL/+3WpBOm6dCpzxWZlI3QL6BfL5pf//bW6KbuirVpni4RlFhMMCcTjFBA6rsv1leEIQxbOHTdlx2lrXZA3lrHKX0m8sY3//NExJ0gqyp0AZhoAC/Vzabr/+znk3N3UxEEMBME/a4kE/r6Z/vfxTGH5ODMp/9bv6bDv/5URTj3llZHYwFypbRJFMCGEXVuVR78mTfywn1kwpSVIZUk1VFEN8hILdZJ//NExG0PsSqwAdhYABou6yYhzhNJBmWcMU+pNPuz9S/UmnaYnJX5A1XuWs5gsUyatB85ejQAsn4HXrFuwFbjmMiuW7kuHks9byla9t6/6ByP/e5pm/P3chpAVIe1JGka//NExIESWa60AMyalGHAPC2pO6BQmPT3wLuz7xAySMvCvgvUOFOe4+7UOPOaWbXf1izc/znEaEh+YW4MjfnH1K819Ys9vW1KPb/HzJKiR3q//+lShinmOqsSGEcwYKj9//NExIof8hqYANZemGqPungdgGDQg/dSnUCOQ2alncoJX5Y5z5l3Zfr9ZSuc3//Ef5z8dvJrlyXOlE3Og0ukw2g6ELcKHaNyiciR1KDlFLOuNdTCHLHvjbYz3v8su6Zz//NExF0hogacAN5emIblfT6y1KtkiVpRVRNUrbOb/emaJqm8PjMuPcI3UtR/9S6ljai41gMhdd/+FdrJONjFvKqqkZ0aJFKdUjQt0AeyuqoyLZp0jIvvomKHootzlqzO//NExCkWObqsANRYlFmjp3aqbhMJayrRKJw8nStraE49f5qvPRZMzmdPbPz+W3rVq7XXAskJNe9L////1subqQWi4dc8PKGXzbgSsxJxvxplPLe2m1Dk4v//jDM5z/1k//NExCMRwS6cANZQcCxlfAsbf/MR9w83cNcVsNBqj3uCkGwuwBI5Y9/8VDV3////6p1+LEBuWFxsE8o2CJ9P5BipxUJHjtBWDaaYjaulcKxd1n2jy3vuNPCcbsSOr/fM//NExC8PuTaIAVswAc/O6TBV+4UvezbU++WRU6tPAcy45AV5mkhJlSwynozqVIHUDOovFcQQx+TiS4gCg6IAcNcwgClG4mDUwZl1d7APkwJixF4XY+DgtFzVV4yYu7OL//NExEMeuyqYAZhQAEaiH/9TH7VW6fbrz1cxOfazf/mHsfcyYrulT3PckJzDV9Lf8zGY3bONd0M548cXjNCQbEg/HhIYCpqVPX/////ZmZ2Ta/1///////+u6rq+fXuf//NExBsSIxq0AcIoAbXkaRiFY4fMVCUGCk9aozqLiY8o9o0DgcXccQQDgo7EFxABBQyBwCCAcFBouPr/////+vn//qKqPr9+K35tiBTtZH0lauhuPjF7dpW2fU8oaOFD//NExCUQGyK4AAAQvFTpKocW4cB8a4XEFBQgYcEQfEDBaBBHC0lkGXX/2Uv////+X///RjrRf/tQiKqM6LWqaslDFylZWUhlDrLVA8LB0owAQ6Ryw6BQFDxtDGMhSlKy//NExDcSKuq4AAhKuZStlZH8xlLRxF3mEg8lM51FkgUc38RFWzVdLmHXtdCZmFbe2U/cTBRrFzVgZz9p+zpw6Wxg1mOhqm9s+o74SUVcmC3y+X/hBMJeb5v27/G3t/Du//NExEER4X6QAChGleuClb//7noCZvTeinf5H9PNz9AXVL80gh/hIWIeIQchbgyiI/+jdlZCznRrTzuV/Vnt3WlqILTorom07pk25/fXtq+qJv3KRmpZd6XpX0EJZVY8//NExEwSOx6IAFDEvHhRgG5TJQ03cYWoyAECQIxLIhLViRSUUgoQhcVk4oDCFsgFEEBgUMIHMW3OcIm2NEBEqSVaN3IeevqRt/Yz//u///6+hYp3V9RIyRwFLog1p3EF//NExFYR4MKYAH4STAz0o1nUJ9wC9hf2I2NuG8zLaamhhgb3slcp/1ThzkyOV+K4EgQlHqFmQxxJwZqmh7kMuf///6vow/VCrMRS3eaW7SRZobIY9OaGe4sSpYoCfFzD//NExGERgM6kANYecCWWrcXAb5xQ0wHAENXFdeaQ4GgPKnYtKFH0EzBneaw4EEy3EFwr///+b6neF16gIIDIz7rAg0Kbwsd8Y/7OEJgOTB1m3DBVGkjIc3bQ6K6l0Npz//NExG4RcMqkANPwcIjA/UDV0vxpACFCIPetYAuMyaliDovrFbWYE9Rza2kbDgWZXDJzAg8zhrNHXDUx5XoXEBpFxmku6+oXAX6mZ1VUsivXGPPhAbivtFo+BdNRykNJ//NExHsRAMacANYwcXLJHTqhYDmcX26xdZ3///2/9Co0yFD8VEGBPne/nIAxhaqczLFh03AMKcNgsFSJ9qk9VwtazmnKMBcdcQ2UZh0XHBygUchc726Ka//e+j60yWqj//NExIoSSMp4AN4ecP/9dNUFcdq6XRcRyqFiZ5CgJPaZn5zn2Rl0JxkUBeFQJ5648F5MPwGTQqAHOplDDCxqjUFsAeC4IRm95tI1ArjcXCILX/1ueLJdwtjUdG//ZjFX//NExJMQyJJMAVpAAEYQ40GhI48EQQnW/9nPeyd3IRECuLQznmCwNC5T/922b7J/ONJTUnnyM8eDwxVLwoekjDUp+kh752HofhL+RaU1ItNSSnitaJ5Z1BKLIglFBGG5//NExKIfEypgAY9QAGIBw0UrzjDhzCODUSHuMHQ4qLHiuY5cu85RR4qGHEUphrLB6GJDQOdM/FIISlKFxu4qxReQ5cK0DrtLF0NIEkq1mFh2e/cpV5cMlXx9MrcR7pTJ//NExHghmw6AAdhAARxNMlFGXNzFS78JBkYh6hE+KIECo+yThc4xSmNiBY9oTXOXhYd+GxLDn9f1jfvJ1RH0dEf+ze5TGuFdY79GREgtqGBOppUCAYIDhVygWE2lCqfD//NExEQSyVaYAEmElIaQ+RFnxXRVjkgwbqYKfHDEQYRBASsZ8TCFw2QoQDooPCKiOzIQ/SxE/T38rG+7cFuGeZ8QvyZe9gDBIO3hhDl7uG9c/nMyKLtfpT5b7eXnX/2t//NExEsbubaEAN4GlGMXziImWnlwnQ3Gcgt8JjTxt55hIRKA5hz05mds+VaWoFCX1ILxym0Ohqoet6HqWUkpicUPJQ16q2DEzzUiwcMhC2zFBzRiS7btSgUJmVGlyIF///NExC8cob6UAN6MlAdpfrT2kMvhuEO3R2NWpZT29dRNPtF7eyz3n7/922Mdns+6LAaZ4U5SDeWy00/j6+LQxkj9CIfOFwuBAQLjlsVJznlKw5vVCIHix7/M4dHdy+R4//NExA8VGbKwAMYGlHUdQXhWiP3KFKkGAaZYqwCl6pZhh8qVuSDYve/KJN3Ym/eVfVO78Yk6Ur/+/5k55GiDIToJGQyMiJs/OXIpQUDQ8KaEqTW3/7uJ+oDt/rq0TsB+//NExA0SOU64AMYMlD9ZBcQHqk3e7uDHOaZY/k0/1F/5wzDT/0//Muy3Bl+/2aCA6cN5T3/amP+1//+oQanUhjioEr3Fz9CKEkO5Mg/BIO6yYAYECiDeZlMCLAJzK7cS//NExBcSiba0AJzWlLTpLYpG7tlEhiHSGeLTJN0gGh0TsRIUnuqN5yvlpz70ieaVxDpf/tr/dz+2GfCh0D7/9VUzVyMAusltBYEAIDFQ0cuuQIExikXyGjKH25Sf5NfY//NExB8RKUawAJ0acMh2mHTHaCSjLRdZkO4S8p9R31GRcatEuj1P6jWBMOn4NnJUK99K5n/8lZnHsXwy3bEAhxC1kjiJKASoIx/Wbiqd84W+gXC3rYerfJYPg8cYXAcB//NExC0SmWKsAMtQlABdOEQK3EueIBLekiv6JRPs1PUEHmChH/9H///9dd/+qqq4Ds335TgqcH+mLX9iCv0rZDlvsfhqXc/edzLf9hKW/7n/vY+2V0kIDA0iScTt3kL1//NExDUSYTawAMYScJSWjb3a88AqvjmSjWoDbf/////+lefqu0QOJaFS2mwABQ4kVCeL4vhiCZJ11AYHFijZ1ivxTX+5Cr++/uV7qMnspyTo0fHooSyWyYhC0GxWxwKT//NExD4SmTqsAMvScIgVV5O24k3//////Qqaw+AARJA6HpfDwWs1uDERFCOEmfMA9ZvNrLDhRW6FLHiTy3r5d1flX/2X24Z5J6kK0QDuWMWy0WZkjxt0CXUWHE2scn2v//NExEYR0T6sAMPScFrqm+ZpkLXqbXmWFJIx0GnO4wjL89iEirx+VRmzYvWscuZ8w3rdft/0UdOUNhUgeLWFynqYSQdQdJmkHhX+vr/Z/////6aWT8kFIl1SuIAQtgsE//NExFEQ8T6wAMYOcEZORQJsvNzh1Q0zhi1YotPSuocK29z+/7/////2rk09DRssCq4oLoCk3qslU2UmGw0ALtlS3YOriVSUiV7HL8qDvut3NXEFitikFh10QcMXZmvd//NExGARQTakAMvScEkX9v1qj1a2+v6////XJyCxUHrD7YcDY8XFw5JYSlq77fK0fq+maS2rGDzHbcsBpUPR2WUnmZpFqwDYM6OpAQzy6fCVYlW0baHJ8oqeBQFPIteh//NExG4QMTKcAMvQcDx/z3xpcU2wqzQSbdISUKlSxr+rkdX/////9lqqeWw0o78mh9rw0UmlgHG3O1KBIihkL6ilOz4HJv5IYNClky3tm5QfUszmRwusA805HEzl0Uj///NExIASYSqEANPQcFjHNJQMbKAV9+fK8FzRxvLX//+j+hFjMsEQGeMJCwCo4WIgFFSAEgWTABKBo4BTwdRsYuWILGjXLsBxXHPf3KWW5DBY+Ah9jmYVIVuXHKclqIYg//NExIkS+Tp4AN4McJD8MZMLcValmPJN/9v0Na5SLWorjrI1uNQxkJNuGgLUB3SCus2EDF2VcyvVGzt7Qp1XD1NCs2P96KKYsaIOIxEW8PV9+alpxxowltY3dnzlfDYh//NExJATaTJwAN4QcExZ6P9rf/Qi5dVfTYGbntsM2UdMw1mWWmAPgJpBAbYYKuu9eM1EPhv4Ee3rL60uNlNmG2XJI05WYx5dCTA/gDQmoMAsUcH1gwCwbJ9ClfZ+hXtD//NExJUSyT5sANPMcIIXNPRZLqsSIA6rndbqmSxwhcG0fEKKZERNLt9tEki1tGllB0OHlhKIoqQUvrwswqOwfDTRQl3+IbXmozs11uNLDoVmFIb7pWgV63RXaMnHXgDt//NExJwRoPZsANPQcJ6FnAgMtCmM78JAMBo0IRShRNWsFiberJZERNKo+sBgrmkZlpnO+N/6S00iRcsFQVUekSRE8RDQqdgrCh0915ZsOgAAOEQoFQTiQOhYeQoiWLTW//NExKgTQUZkANJQcK5AFEDK5Gj3J45itfd1a/RiMxETaYzsQZ0GE0CmZatsXJgYgMFFxgvTTrV9IHF/URfb6X/i6TQpTSoVJWaWIhUTYcAgpZpFEoBAQFSqquzAQdBU//NExK4SePZEAMpMcBbEoKh1YKgrg0DWDTxLg0eK8Gnz0FfW7lfLB3//xK6oFXf+Cqo9NkSt1celoYhiGYeDuePqFZYGDyBMws5Fa0EwyZBM/FiZg1/muZGipo2ZzJo1//NExLcSaQH0AGJEcPSZNGvFSBoz0GnoNGTMyYqmTXmvFRCaNgM5MwOKLGCkljyDyDphCOUWIBATvkCYRCxwmIAQBAoceXBwEAQdE58TvKOKeCFNeCDoP+8+XD63lHZd//NExMAPiH3wAEmGSPoSXP/l+59TtZ/IKiINNFgSNCEUoRUaVcs0cDEpY4lX/bt5zyRmteWo4kSIo5/6r9qDATM36l1SbY+Mxz/2b6X/7ezMx6szNGb8vCgKqAnhEDQN//NExNQSOHlEAGMMSEqdErgaeVBU71ke89Eoag0DR7RVTEFNRTMuMTAwVVVVVVVVVVVVVVVVVVVVVVVVVVVVVVVVVVVVVVVVVVVVVVVVVVVVVVVVVVVVVVVVTEFNRTMu//NExN4QyE38AGGGJDEwMFVVVVVVVVVVVVVVVVVVVVVVVVVVVVVVVVVVVVVVVVVVVVVVVVVVVVVVVVVVVVVVVVVVVVVVVVVVVVVVVVVVVVVVVVVVVVVVVVVVTEFNRTMu//NExO0WifnoAEmGmDEwMFVVVVVVVVVVVVVVVVVVVVVVVVVVVVVVVVVVVVVVVVVVVVVVVVVVVVVVVVVVVVVVVVVVVVVVVVVVVVVVVVVVVVVVVVVVVVVVVVVVTEFNRTMu//NExKwAAANIAAAAADEwMFVVVVVVVVVVVVVVVVVVVVVVVVVVVVVVVVVVVVVVVVVVVVVVVVVVVVVVVVVVVVVVVVVVVVVVVVVVVVVVVVVVVVVVVVVVVVVVVVVVTEFNRTMu//NExKwAAANIAAAAADEwMFVVVVVVVVVVVVVVVVVVVVVVVVVVVVVVVVVVVVVVVVVVVVVVVVVVVVVVVVVVVVVVVVVVVVVVVVVVVVVVVVVVVVVVVVVVVVVVVVVVTEFNRTMu//NExKwAAANIAAAAADEwMFVVVVVVVVVVVVVVVVVVVVVVVVVVVVVVVVVVVVVVVVVVVVVVVVVVVVVVVVVVVVVVVVVVVVVVVVVVVVVVVVVVVVVVVVVVVVVVVVVVTEFNRTMu//NExKwAAANIAAAAADEwMFVVVVVVVVVVVVVVVVVVVVVVVVVVVVVVVVVVVVVVVVVVVVVVVVVVVVVVVVVVVVVVVVVVVVVVVVVVVVVVVVVVVVVVVVVVVVVVVVVVVVVVVVVV//NExKwAAANIAAAAAFVVVVVVVVVVVVVVVVVVVVVVVVVVVVVVVVVVVVVVVVVVVVVVVVVVVVVVVVVVVVVVVVVVVVVVVVVVVVVVVVVVVVVVVVVVVVVVVVVVVVVVVVVVVVVV//NExKwAAANIAAAAAFVVVVVVVVVVVVVVVVVVVVVVVVVVVVVVVVVVVVVVVVVVVVVVVVVVVVVVVVVVVVVVVVVVVVVVVVVVVVVVVVVVVVVVVVVVVVVVVVVVVVVVVVVVVVVV\" type=\"audio/mpeg\" />\n",
              "                    Your browser does not support the audio element.\n",
              "                </audio>\n",
              "              "
            ]
          },
          "metadata": {}
        }
      ]
    },
    {
      "cell_type": "markdown",
      "source": [
        "---\n",
        "# 📙Concepts and elements to cover for our goal:\n",
        "\n",
        "0. Importing modules: Explain how to import a module (like random) and use its functions (like random.shuffle()).\n",
        "\n",
        "1. Python basics: Basic data types (strings, integers, lists, dictionaries), variables, and basic input/output functions (like print() and input()).\n",
        "\n",
        "2. String manipulation: Cover string methods like .strip() and .lower().\n",
        "3. Control structures: Introduce for loops, while loops, and conditional statements (if, elif, else).\n",
        "\n",
        "4. Functions: Explain how to define and use functions, including function parameters. \n",
        "\n",
        "5. F-strings: Introduce f-strings (formatted string literals) and how to embed expressions inside string literals using curly braces {}.\n",
        "---"
      ],
      "metadata": {
        "id": "2VMRdKbJwOsk"
      }
    },
    {
      "cell_type": "markdown",
      "source": [
        "# [0] Importing modules\n",
        "\n",
        "1. **function, (class), module, package, and library**\n",
        "\n",
        "> (class) > functions\n",
        "\n",
        "\n",
        "2. Let's use the analogy of a toolbox: \n",
        "\n",
        "+ **a module** is a single tool, (e.g., random) \n",
        "+ **a package** is a toolbox containing multiple tools (e.g., gTTS)\n",
        "+ **a library** is a set of toolboxes designed for a specific purpose. (e.g., nltk - Natural Language Tool Kit) _>> Next time_"
      ],
      "metadata": {
        "id": "wgZEzhkQwzc3"
      }
    },
    {
      "cell_type": "markdown",
      "source": [
        "##A. 'gTTS' package"
      ],
      "metadata": {
        "id": "298wKG9q7-rN"
      }
    },
    {
      "cell_type": "code",
      "source": [
        "!pip install gtts\n",
        "!pip install IPython\n",
        "from gtts import gTTS\n",
        "from IPython.display import Audio, display"
      ],
      "metadata": {
        "id": "YLCRqNbW8E9J",
        "outputId": "d8d219ce-ef36-4245-ff71-baa557dbeb29",
        "colab": {
          "base_uri": "https://localhost:8080/"
        }
      },
      "execution_count": 17,
      "outputs": [
        {
          "output_type": "stream",
          "name": "stdout",
          "text": [
            "Looking in indexes: https://pypi.org/simple, https://us-python.pkg.dev/colab-wheels/public/simple/\n",
            "Requirement already satisfied: gtts in /usr/local/lib/python3.9/dist-packages (2.3.1)\n",
            "Requirement already satisfied: click<8.2,>=7.1 in /usr/local/lib/python3.9/dist-packages (from gtts) (8.1.3)\n",
            "Requirement already satisfied: requests<3,>=2.27 in /usr/local/lib/python3.9/dist-packages (from gtts) (2.27.1)\n",
            "Requirement already satisfied: urllib3<1.27,>=1.21.1 in /usr/local/lib/python3.9/dist-packages (from requests<3,>=2.27->gtts) (1.26.15)\n",
            "Requirement already satisfied: certifi>=2017.4.17 in /usr/local/lib/python3.9/dist-packages (from requests<3,>=2.27->gtts) (2022.12.7)\n",
            "Requirement already satisfied: idna<4,>=2.5 in /usr/local/lib/python3.9/dist-packages (from requests<3,>=2.27->gtts) (3.4)\n",
            "Requirement already satisfied: charset-normalizer~=2.0.0 in /usr/local/lib/python3.9/dist-packages (from requests<3,>=2.27->gtts) (2.0.12)\n",
            "Looking in indexes: https://pypi.org/simple, https://us-python.pkg.dev/colab-wheels/public/simple/\n",
            "Requirement already satisfied: IPython in /usr/local/lib/python3.9/dist-packages (7.34.0)\n",
            "Requirement already satisfied: pygments in /usr/local/lib/python3.9/dist-packages (from IPython) (2.14.0)\n",
            "Requirement already satisfied: setuptools>=18.5 in /usr/local/lib/python3.9/dist-packages (from IPython) (67.6.1)\n",
            "Requirement already satisfied: pexpect>4.3 in /usr/local/lib/python3.9/dist-packages (from IPython) (4.8.0)\n",
            "Requirement already satisfied: jedi>=0.16 in /usr/local/lib/python3.9/dist-packages (from IPython) (0.18.2)\n",
            "Requirement already satisfied: traitlets>=4.2 in /usr/local/lib/python3.9/dist-packages (from IPython) (5.7.1)\n",
            "Requirement already satisfied: prompt-toolkit!=3.0.0,!=3.0.1,<3.1.0,>=2.0.0 in /usr/local/lib/python3.9/dist-packages (from IPython) (3.0.38)\n",
            "Requirement already satisfied: backcall in /usr/local/lib/python3.9/dist-packages (from IPython) (0.2.0)\n",
            "Requirement already satisfied: pickleshare in /usr/local/lib/python3.9/dist-packages (from IPython) (0.7.5)\n",
            "Requirement already satisfied: matplotlib-inline in /usr/local/lib/python3.9/dist-packages (from IPython) (0.1.6)\n",
            "Requirement already satisfied: decorator in /usr/local/lib/python3.9/dist-packages (from IPython) (4.4.2)\n",
            "Requirement already satisfied: parso<0.9.0,>=0.8.0 in /usr/local/lib/python3.9/dist-packages (from jedi>=0.16->IPython) (0.8.3)\n",
            "Requirement already satisfied: ptyprocess>=0.5 in /usr/local/lib/python3.9/dist-packages (from pexpect>4.3->IPython) (0.7.0)\n",
            "Requirement already satisfied: wcwidth in /usr/local/lib/python3.9/dist-packages (from prompt-toolkit!=3.0.0,!=3.0.1,<3.1.0,>=2.0.0->IPython) (0.2.6)\n"
          ]
        }
      ]
    },
    {
      "cell_type": "code",
      "source": [
        "#@markdown etts(), ktts()\n",
        "def etts(text):\n",
        "  text_to_say = text\n",
        "\n",
        "  gtts_object = gTTS(text = text_to_say,\n",
        "                     lang = \"en\",\n",
        "                    slow = False)\n",
        "  \n",
        "  gtts_object.save(\"E-audio.mp3\")\n",
        "  return Audio(\"E-audio.mp3\")\n",
        "\n",
        "def ktts(text):\n",
        "  text_to_say = text\n",
        "\n",
        "  gtts_object = gTTS(text = text_to_say,\n",
        "                     lang = \"ko\",\n",
        "                    slow = False)\n",
        "  \n",
        "  gtts_object.save(\"K-audio.mp3\")\n",
        "  return Audio(\"K-audio.mp3\")"
      ],
      "metadata": {
        "id": "bYDfENzGRUFb"
      },
      "execution_count": 18,
      "outputs": []
    },
    {
      "cell_type": "markdown",
      "source": [
        "## B. 'random' module\n",
        "\n",
        "[Random Picker App using 'random'](https://github.com/MK316/Spring2023/blob/main/RandomPickerS23.ipynb)"
      ],
      "metadata": {
        "id": "vSFe_Umb68o9"
      }
    },
    {
      "cell_type": "code",
      "source": [
        "import random"
      ],
      "metadata": {
        "id": "t8tYICF_1Yx8"
      },
      "execution_count": 19,
      "outputs": []
    },
    {
      "cell_type": "markdown",
      "source": [
        "Return a number between 3 and 9 (both included):"
      ],
      "metadata": {
        "id": "RlWQ5dXark-r"
      }
    },
    {
      "cell_type": "code",
      "source": [
        "random.randint(1, 10) #random.randint(x,y)는 함수이므로 문법대로 사용해야 함."
      ],
      "metadata": {
        "colab": {
          "base_uri": "https://localhost:8080/"
        },
        "id": "sMf1Ow7W11EZ",
        "outputId": "8b792db2-629f-4fb0-c9db-cf9c6cf51130"
      },
      "execution_count": 35,
      "outputs": [
        {
          "output_type": "execute_result",
          "data": {
            "text/plain": [
              "10"
            ]
          },
          "metadata": {},
          "execution_count": 35
        }
      ]
    },
    {
      "cell_type": "code",
      "source": [
        "a1 = random.randint(1, 10)\n",
        "a1*10  #변수를 이용하면 결과값을 이용한 다른 연산이나 작업이 가능하다."
      ],
      "metadata": {
        "colab": {
          "base_uri": "https://localhost:8080/"
        },
        "id": "WUVN9-Rs825s",
        "outputId": "bb8b73ca-c188-4da3-e0c6-03e29fb4d83c"
      },
      "execution_count": 38,
      "outputs": [
        {
          "output_type": "execute_result",
          "data": {
            "text/plain": [
              "50"
            ]
          },
          "metadata": {},
          "execution_count": 38
        }
      ]
    },
    {
      "cell_type": "markdown",
      "source": [
        "# [1] Python basics: \n",
        "\n",
        "+ Basic data types (strings, integers, lists, dictionaries), \n",
        "+ variables, \n",
        "+ basic input/output functions (like print() and input()).\n",
        "\n"
      ],
      "metadata": {
        "id": "_vTm-kXl8qa_"
      }
    },
    {
      "cell_type": "markdown",
      "source": [
        "## [1-1] Basic data types"
      ],
      "metadata": {
        "id": "qaQ0_hkoENRX"
      }
    },
    {
      "cell_type": "markdown",
      "source": [
        "### A. strings"
      ],
      "metadata": {
        "id": "HB86s1k990Hh"
      }
    },
    {
      "cell_type": "code",
      "source": [
        "a2 = \"Welcome\"\n",
        "a3 = \"2023\""
      ],
      "metadata": {
        "id": "L_OImwSL94Kr"
      },
      "execution_count": 39,
      "outputs": []
    },
    {
      "cell_type": "markdown",
      "source": [
        "☺️ DIY: How to get \"Welcome, 2023!\""
      ],
      "metadata": {
        "id": "wkYUBwu1-IvG"
      }
    },
    {
      "cell_type": "code",
      "source": [
        "a2+\", \"+ a3+\"!\""
      ],
      "metadata": {
        "id": "XZ2LHJcl9_u4",
        "outputId": "a4050d54-7097-4d09-a4cb-513af627b2e6",
        "colab": {
          "base_uri": "https://localhost:8080/",
          "height": 35
        }
      },
      "execution_count": 43,
      "outputs": [
        {
          "output_type": "execute_result",
          "data": {
            "text/plain": [
              "'Welcome, 2023!'"
            ],
            "application/vnd.google.colaboratory.intrinsic+json": {
              "type": "string"
            }
          },
          "metadata": {},
          "execution_count": 43
        }
      ]
    },
    {
      "cell_type": "markdown",
      "source": [
        "☺️ DIY: Let a4 = \"화이팅\", and get '화이팅화이팅화이팅화이팅화이팅화이팅화이팅화이팅화이팅화이팅'(10번)"
      ],
      "metadata": {
        "id": "WNaHBznU-yEd"
      }
    },
    {
      "cell_type": "code",
      "source": [],
      "metadata": {
        "id": "0vfPcih3-xg4",
        "outputId": "be3891a2-8eba-4f0b-a31b-9e0ed445871a",
        "colab": {
          "base_uri": "https://localhost:8080/",
          "height": 35
        }
      },
      "execution_count": null,
      "outputs": [
        {
          "output_type": "execute_result",
          "data": {
            "text/plain": [
              "'화이팅화이팅화이팅화이팅화이팅화이팅화이팅화이팅화이팅화이팅'"
            ],
            "application/vnd.google.colaboratory.intrinsic+json": {
              "type": "string"
            }
          },
          "metadata": {},
          "execution_count": 21
        }
      ]
    },
    {
      "cell_type": "code",
      "source": [
        "type(a2). # data type of the variable a2"
      ],
      "metadata": {
        "colab": {
          "base_uri": "https://localhost:8080/"
        },
        "id": "1XroWNyGADZU",
        "outputId": "05a0322b-a18c-401f-8aa2-ec8a7975d907"
      },
      "execution_count": null,
      "outputs": [
        {
          "output_type": "execute_result",
          "data": {
            "text/plain": [
              "str"
            ]
          },
          "metadata": {},
          "execution_count": 22
        }
      ]
    },
    {
      "cell_type": "markdown",
      "source": [
        "###B. Integers, float"
      ],
      "metadata": {
        "id": "kpNXrqZ2_9I2"
      }
    },
    {
      "cell_type": "code",
      "source": [
        "x1 = 45; y1 = 0.5\n",
        "x1 * y1"
      ],
      "metadata": {
        "colab": {
          "base_uri": "https://localhost:8080/"
        },
        "id": "CEs2BHNbAB1Q",
        "outputId": "e63af813-d7ca-422b-91d2-75a50ef4564e"
      },
      "execution_count": null,
      "outputs": [
        {
          "output_type": "execute_result",
          "data": {
            "text/plain": [
              "22.5"
            ]
          },
          "metadata": {},
          "execution_count": 23
        }
      ]
    },
    {
      "cell_type": "code",
      "source": [],
      "metadata": {
        "id": "2WarI3IQsRJX",
        "outputId": "8304e3e2-9753-45f0-adb6-b2da469a304a",
        "colab": {
          "base_uri": "https://localhost:8080/"
        }
      },
      "execution_count": null,
      "outputs": [
        {
          "output_type": "execute_result",
          "data": {
            "text/plain": [
              "float"
            ]
          },
          "metadata": {},
          "execution_count": 24
        }
      ]
    },
    {
      "cell_type": "markdown",
      "source": [
        "### C. List datatype"
      ],
      "metadata": {
        "id": "S7PJcJFkBO46"
      }
    },
    {
      "cell_type": "code",
      "source": [
        "x2 = [1,2,3]\n",
        "x2"
      ],
      "metadata": {
        "colab": {
          "base_uri": "https://localhost:8080/"
        },
        "id": "LjSEH6lABR98",
        "outputId": "eb284b7f-40ef-48c5-ea6f-926543a1ee7b"
      },
      "execution_count": null,
      "outputs": [
        {
          "output_type": "execute_result",
          "data": {
            "text/plain": [
              "[1, 2, 3]"
            ]
          },
          "metadata": {},
          "execution_count": 26
        }
      ]
    },
    {
      "cell_type": "markdown",
      "source": [
        "x2[index]: Python index starts from 0"
      ],
      "metadata": {
        "id": "xcPyj0Fesdiu"
      }
    },
    {
      "cell_type": "code",
      "source": [
        "x2[0]"
      ],
      "metadata": {
        "id": "VGWl1av6BYGu"
      },
      "execution_count": null,
      "outputs": []
    },
    {
      "cell_type": "code",
      "source": [
        "# range(x,y)\n",
        "x3 = range(1,10)\n",
        "list(x3)  #list(), range(1,10)"
      ],
      "metadata": {
        "colab": {
          "base_uri": "https://localhost:8080/"
        },
        "id": "WNmjoCQ1ANr4",
        "outputId": "9e1cf838-bd7f-47f5-def6-731599ef24a5"
      },
      "execution_count": null,
      "outputs": [
        {
          "output_type": "execute_result",
          "data": {
            "text/plain": [
              "[1, 2, 3, 4, 5, 6, 7, 8, 9]"
            ]
          },
          "metadata": {},
          "execution_count": 28
        }
      ]
    },
    {
      "cell_type": "code",
      "source": [
        "x4 = \"John\"\n",
        "list(x4)"
      ],
      "metadata": {
        "colab": {
          "base_uri": "https://localhost:8080/"
        },
        "id": "amRP-ytuBlO6",
        "outputId": "a8eeef49-a6aa-4452-f9e2-d933278c0bdc"
      },
      "execution_count": null,
      "outputs": [
        {
          "output_type": "execute_result",
          "data": {
            "text/plain": [
              "['J', 'o', 'h', 'n']"
            ]
          },
          "metadata": {},
          "execution_count": 29
        }
      ]
    },
    {
      "cell_type": "markdown",
      "source": [
        "###D. Dictionary datatype: {'key':'value'}\n",
        "\n",
        "In Python, a dictionary is a built-in data type that represents a collection of key-value pairs. Each key-value pair in a dictionary is separated by a colon (:), and each pair is separated by a comma. "
      ],
      "metadata": {
        "id": "ZoyOSN_QCCdO"
      }
    },
    {
      "cell_type": "code",
      "source": [
        "mydict = {\"API\":\"Application Programming Interface\", \"GPT\":\"Generative Pretrained Transformer\"}\n",
        "mydict['API']"
      ],
      "metadata": {
        "colab": {
          "base_uri": "https://localhost:8080/",
          "height": 35
        },
        "id": "PdRkfL3JBMWK",
        "outputId": "0e165aee-8079-4359-c38e-64e33c14c9ac"
      },
      "execution_count": null,
      "outputs": [
        {
          "output_type": "execute_result",
          "data": {
            "text/plain": [
              "'Application Programming Interface'"
            ],
            "application/vnd.google.colaboratory.intrinsic+json": {
              "type": "string"
            }
          },
          "metadata": {},
          "execution_count": 30
        }
      ]
    },
    {
      "cell_type": "code",
      "source": [
        "mydict['GPT']"
      ],
      "metadata": {
        "id": "muVfPouBs47b",
        "outputId": "1d08be3c-9e45-4a57-c0e4-1d7ff7368986",
        "colab": {
          "base_uri": "https://localhost:8080/",
          "height": 35
        }
      },
      "execution_count": null,
      "outputs": [
        {
          "output_type": "execute_result",
          "data": {
            "text/plain": [
              "'Generative Pretrained Transformer'"
            ],
            "application/vnd.google.colaboratory.intrinsic+json": {
              "type": "string"
            }
          },
          "metadata": {},
          "execution_count": 31
        }
      ]
    },
    {
      "cell_type": "code",
      "source": [
        "class_size = {\"Class A\": 25, \"Class B\": 30, \"Class C\": 32}\n",
        "class_size['Class C']"
      ],
      "metadata": {
        "colab": {
          "base_uri": "https://localhost:8080/"
        },
        "id": "WBs-NrEJDQRC",
        "outputId": "6c9a6b9f-6471-4424-a133-d47bb0d08f8c"
      },
      "execution_count": null,
      "outputs": [
        {
          "output_type": "execute_result",
          "data": {
            "text/plain": [
              "32"
            ]
          },
          "metadata": {},
          "execution_count": 32
        }
      ]
    },
    {
      "cell_type": "markdown",
      "source": [
        "## [1-2] Variables"
      ],
      "metadata": {
        "id": "0m_ux_SoEUos"
      }
    },
    {
      "cell_type": "markdown",
      "source": [
        "## [1-3] input/output functions"
      ],
      "metadata": {
        "id": "YUasz63dEYAX"
      }
    },
    {
      "cell_type": "code",
      "source": [
        "mynumber = 2\n",
        "mynumber"
      ],
      "metadata": {
        "colab": {
          "base_uri": "https://localhost:8080/"
        },
        "id": "BSp7TWkeEfmz",
        "outputId": "3bcd84d2-c721-4bc7-da68-a245706b8b5c"
      },
      "execution_count": null,
      "outputs": [
        {
          "output_type": "execute_result",
          "data": {
            "text/plain": [
              "2"
            ]
          },
          "metadata": {},
          "execution_count": 87
        }
      ]
    },
    {
      "cell_type": "code",
      "source": [
        "yournumber = input()  # In Python, input() is a built-in function that allows you to get user input from the keyboard. \n",
        "yournumber"
      ],
      "metadata": {
        "colab": {
          "base_uri": "https://localhost:8080/",
          "height": 53
        },
        "id": "6LZudH_0En_w",
        "outputId": "783d5cc3-75a8-465a-963e-b294e0816f0a"
      },
      "execution_count": null,
      "outputs": [
        {
          "name": "stdout",
          "output_type": "stream",
          "text": [
            "4\n"
          ]
        },
        {
          "output_type": "execute_result",
          "data": {
            "text/plain": [
              "'4'"
            ],
            "application/vnd.google.colaboratory.intrinsic+json": {
              "type": "string"
            }
          },
          "metadata": {},
          "execution_count": 33
        }
      ]
    },
    {
      "cell_type": "markdown",
      "source": [
        "☺️ After running the code below, can you tell what the resulting output means?"
      ],
      "metadata": {
        "id": "-Z1mQqzlH4k5"
      }
    },
    {
      "cell_type": "code",
      "source": [
        "yournumber*5"
      ],
      "metadata": {
        "colab": {
          "base_uri": "https://localhost:8080/",
          "height": 35
        },
        "id": "5cGgSs3qHxG_",
        "outputId": "61f4269a-ed03-4cae-f717-7f70b0c34f76"
      },
      "execution_count": null,
      "outputs": [
        {
          "output_type": "execute_result",
          "data": {
            "text/plain": [
              "'44444'"
            ],
            "application/vnd.google.colaboratory.intrinsic+json": {
              "type": "string"
            }
          },
          "metadata": {},
          "execution_count": 34
        }
      ]
    },
    {
      "cell_type": "code",
      "source": [
        "type(yournumber)"
      ],
      "metadata": {
        "colab": {
          "base_uri": "https://localhost:8080/"
        },
        "id": "664rKEalISSY",
        "outputId": "5314bd92-1d93-4d40-d399-b18d7d3b8930"
      },
      "execution_count": null,
      "outputs": [
        {
          "output_type": "execute_result",
          "data": {
            "text/plain": [
              "str"
            ]
          },
          "metadata": {},
          "execution_count": 35
        }
      ]
    },
    {
      "cell_type": "code",
      "source": [
        "yournumber = int(yournumber) # changing the type of the value to integer\n",
        "type(yournumber)"
      ],
      "metadata": {
        "colab": {
          "base_uri": "https://localhost:8080/"
        },
        "id": "u_ocEyoAIVC4",
        "outputId": "cae55304-aabb-4b25-bf49-c0c051815f76"
      },
      "execution_count": null,
      "outputs": [
        {
          "output_type": "execute_result",
          "data": {
            "text/plain": [
              "int"
            ]
          },
          "metadata": {},
          "execution_count": 36
        }
      ]
    },
    {
      "cell_type": "markdown",
      "source": [
        "Getting output:"
      ],
      "metadata": {
        "id": "Z9Kzd8ZW7Bri"
      }
    },
    {
      "cell_type": "code",
      "source": [
        "# print() 함수 배우기\n",
        "print(\"대한민국\")\n",
        "\n",
        "a2 = \"화이팅!\"  # a1: variable(변수)\n",
        "print(a2)\n",
        "print(a2*10)\n",
        "print(\"화이팅 10번 합시다: \", a2*10)\n",
        "a2"
      ],
      "metadata": {
        "id": "aQXDo7u-4-18",
        "outputId": "d02c1b36-7980-4293-8168-c3d350b08205",
        "colab": {
          "base_uri": "https://localhost:8080/",
          "height": 105
        }
      },
      "execution_count": null,
      "outputs": [
        {
          "output_type": "stream",
          "name": "stdout",
          "text": [
            "대한민국\n",
            "화이팅!\n",
            "화이팅!화이팅!화이팅!화이팅!화이팅!화이팅!화이팅!화이팅!화이팅!화이팅!\n",
            "화이팅 10번 합시다:  화이팅!화이팅!화이팅!화이팅!화이팅!화이팅!화이팅!화이팅!화이팅!화이팅!\n"
          ]
        },
        {
          "output_type": "execute_result",
          "data": {
            "text/plain": [
              "'화이팅!'"
            ],
            "application/vnd.google.colaboratory.intrinsic+json": {
              "type": "string"
            }
          },
          "metadata": {},
          "execution_count": 37
        }
      ]
    },
    {
      "cell_type": "code",
      "source": [
        "print(a2)\n",
        "print(\"=\"*30)\n",
        "a1=random.randint(1,10)\n",
        "print(\"Random integer between 1 and 10:\", a1)"
      ],
      "metadata": {
        "colab": {
          "base_uri": "https://localhost:8080/"
        },
        "id": "0jdQu65F2ZWw",
        "outputId": "3a5d1c38-1e5a-4df4-8b8a-e7d3b08ce48b"
      },
      "execution_count": null,
      "outputs": [
        {
          "output_type": "stream",
          "name": "stdout",
          "text": [
            "화이팅!\n",
            "==============================\n",
            "Random integer between 1 and 10: 7\n"
          ]
        }
      ]
    },
    {
      "cell_type": "markdown",
      "source": [
        "☺️DIY: \n",
        "**Q: John and Mary have been together for many days. Ask Mary how many days it has been since she met John. Then you tell Mary how many hours it has been since she met John.**\n",
        "\n",
        "1. Set the variable 'day' to 24\n",
        "2. Set the variable 'num_day' for the input from the user. Get a number (number of days) from the user using input() function\n",
        "2. Calculate days to hours: set the variable 'hours' to the final result."
      ],
      "metadata": {
        "id": "cvkWAvetFtSP"
      }
    },
    {
      "cell_type": "code",
      "source": [
        "day = \n",
        "num_day = \n",
        "hours = \n",
        "print(\"The total hours passed since Mary met John are: \", hours, \"hours.\")"
      ],
      "metadata": {
        "id": "Fdezo9WD1zju",
        "outputId": "174b66de-637f-420b-f218-3dbcf86e8f5b",
        "colab": {
          "base_uri": "https://localhost:8080/"
        }
      },
      "execution_count": null,
      "outputs": [
        {
          "output_type": "stream",
          "name": "stdout",
          "text": [
            "How many days? 23\n",
            "The total hours passed since Mary met John are:  552 hours.\n"
          ]
        }
      ]
    },
    {
      "cell_type": "markdown",
      "source": [
        "#[2] String manipulation: strip() and .lower().\n",
        "\n"
      ],
      "metadata": {
        "id": "zzkVAfU61HDk"
      }
    },
    {
      "cell_type": "markdown",
      "source": [
        "### **data.strip()**\n",
        "\n",
        "+ In Python, strip() is a built-in string method that returns a copy of the string with leading and trailing characters removed. \n",
        "+ By default, strip() removes whitespace characters such as spaces, tabs, and newlines from the beginning and end of the string."
      ],
      "metadata": {
        "id": "sSi_PvE5LTeC"
      }
    },
    {
      "cell_type": "code",
      "source": [
        "w1 = \" Mary is friendly. \"\n",
        "w1"
      ],
      "metadata": {
        "colab": {
          "base_uri": "https://localhost:8080/",
          "height": 35
        },
        "id": "IUtU-qG81XIt",
        "outputId": "e220311b-615a-4482-fcf3-989e2bcf0a26"
      },
      "execution_count": null,
      "outputs": [
        {
          "output_type": "execute_result",
          "data": {
            "text/plain": [
              "' Mary is friendly. '"
            ],
            "application/vnd.google.colaboratory.intrinsic+json": {
              "type": "string"
            }
          },
          "metadata": {},
          "execution_count": 46
        }
      ]
    },
    {
      "cell_type": "code",
      "source": [
        "w1.strip()"
      ],
      "metadata": {
        "colab": {
          "base_uri": "https://localhost:8080/",
          "height": 35
        },
        "id": "ZAhdPbqVKr6e",
        "outputId": "cd233fa9-fd66-4f89-da29-02e5f8e8ddf7"
      },
      "execution_count": null,
      "outputs": [
        {
          "output_type": "execute_result",
          "data": {
            "text/plain": [
              "'Mary is friendly.'"
            ],
            "application/vnd.google.colaboratory.intrinsic+json": {
              "type": "string"
            }
          },
          "metadata": {},
          "execution_count": 47
        }
      ]
    },
    {
      "cell_type": "markdown",
      "source": [
        "### **data.split()**"
      ],
      "metadata": {
        "id": "JGPdtmu8MFgv"
      }
    },
    {
      "cell_type": "code",
      "source": [
        "w1 = \"Mary is friendly.\"\n",
        "w1.split()"
      ],
      "metadata": {
        "colab": {
          "base_uri": "https://localhost:8080/"
        },
        "id": "xbF1sJB9MIpw",
        "outputId": "b9175d5c-0146-44ee-a8dc-9e11d71cdbd9"
      },
      "execution_count": null,
      "outputs": [
        {
          "output_type": "execute_result",
          "data": {
            "text/plain": [
              "['Mary', 'is', 'friendly.']"
            ]
          },
          "metadata": {},
          "execution_count": 48
        }
      ]
    },
    {
      "cell_type": "code",
      "source": [
        "w2 = \"out-of-date\"\n",
        "w2.split('-')"
      ],
      "metadata": {
        "colab": {
          "base_uri": "https://localhost:8080/"
        },
        "id": "IudKgTjkMVQP",
        "outputId": "fffcbccf-0217-466c-bcc2-d35131bd60c7"
      },
      "execution_count": null,
      "outputs": [
        {
          "output_type": "execute_result",
          "data": {
            "text/plain": [
              "['out', 'of', 'date']"
            ]
          },
          "metadata": {},
          "execution_count": 49
        }
      ]
    },
    {
      "cell_type": "code",
      "source": [
        "w1 = \"Mary\"\n",
        "w2 = \"is\"\n",
        "w3 = \"friendly\""
      ],
      "metadata": {
        "id": "tGBOKKKtLvj7"
      },
      "execution_count": null,
      "outputs": []
    },
    {
      "cell_type": "code",
      "source": [
        "wordlist = [w1, w2, w3]\n",
        "wordlist"
      ],
      "metadata": {
        "colab": {
          "base_uri": "https://localhost:8080/"
        },
        "id": "c11AXGr0V_a4",
        "outputId": "f5a0b40c-c834-4888-c9fa-b243ac79243e"
      },
      "execution_count": null,
      "outputs": [
        {
          "output_type": "execute_result",
          "data": {
            "text/plain": [
              "['Mary', 'is', 'friendly']"
            ]
          },
          "metadata": {},
          "execution_count": 51
        }
      ]
    },
    {
      "cell_type": "markdown",
      "source": [
        "### **' '.join()**"
      ],
      "metadata": {
        "id": "Mb-LFWWPWn08"
      }
    },
    {
      "cell_type": "code",
      "source": [
        "' '.join(wordlist)"
      ],
      "metadata": {
        "colab": {
          "base_uri": "https://localhost:8080/",
          "height": 35
        },
        "id": "tZA7DsPPWGmA",
        "outputId": "90221f13-9bd2-40de-da6a-de32c074fb58"
      },
      "execution_count": null,
      "outputs": [
        {
          "output_type": "execute_result",
          "data": {
            "text/plain": [
              "'Mary is friendly'"
            ],
            "application/vnd.google.colaboratory.intrinsic+json": {
              "type": "string"
            }
          },
          "metadata": {},
          "execution_count": 52
        }
      ]
    },
    {
      "cell_type": "code",
      "source": [
        "'-'.join(wordlist)"
      ],
      "metadata": {
        "colab": {
          "base_uri": "https://localhost:8080/",
          "height": 35
        },
        "id": "EjLtWSL5WdYy",
        "outputId": "4ce99690-92b2-4ac7-b8c2-ee45569c21fe"
      },
      "execution_count": null,
      "outputs": [
        {
          "output_type": "execute_result",
          "data": {
            "text/plain": [
              "'Mary-is-friendly'"
            ],
            "application/vnd.google.colaboratory.intrinsic+json": {
              "type": "string"
            }
          },
          "metadata": {},
          "execution_count": 53
        }
      ]
    },
    {
      "cell_type": "markdown",
      "source": [
        "### **data.lower(), data.upper()**"
      ],
      "metadata": {
        "id": "PgCIMbbcL29X"
      }
    },
    {
      "cell_type": "code",
      "source": [
        "w1.lower()"
      ],
      "metadata": {
        "colab": {
          "base_uri": "https://localhost:8080/",
          "height": 35
        },
        "id": "JGqTVM22MuH0",
        "outputId": "118e59a5-ab1a-4271-98b6-5e38fd509488"
      },
      "execution_count": null,
      "outputs": [
        {
          "output_type": "execute_result",
          "data": {
            "text/plain": [
              "'mary'"
            ],
            "application/vnd.google.colaboratory.intrinsic+json": {
              "type": "string"
            }
          },
          "metadata": {},
          "execution_count": 54
        }
      ]
    },
    {
      "cell_type": "code",
      "source": [
        "w1.upper()"
      ],
      "metadata": {
        "colab": {
          "base_uri": "https://localhost:8080/",
          "height": 35
        },
        "id": "fP2lBss3Myhq",
        "outputId": "7b93479c-d868-4f9d-d120-456ed03398a4"
      },
      "execution_count": null,
      "outputs": [
        {
          "output_type": "execute_result",
          "data": {
            "text/plain": [
              "'MARY'"
            ],
            "application/vnd.google.colaboratory.intrinsic+json": {
              "type": "string"
            }
          },
          "metadata": {},
          "execution_count": 55
        }
      ]
    },
    {
      "cell_type": "markdown",
      "source": [
        "string index"
      ],
      "metadata": {
        "id": "yZJk2NtCM_oz"
      }
    },
    {
      "cell_type": "code",
      "source": [
        "len(w1) #number of string"
      ],
      "metadata": {
        "colab": {
          "base_uri": "https://localhost:8080/"
        },
        "id": "HmuiXLZSNGNa",
        "outputId": "a04863f4-d425-4cca-ae44-b0b8506c2910"
      },
      "execution_count": null,
      "outputs": [
        {
          "output_type": "execute_result",
          "data": {
            "text/plain": [
              "4"
            ]
          },
          "metadata": {},
          "execution_count": 56
        }
      ]
    },
    {
      "cell_type": "code",
      "source": [
        "w1[0] #1st string"
      ],
      "metadata": {
        "colab": {
          "base_uri": "https://localhost:8080/",
          "height": 35
        },
        "id": "xiyozLYxM6xk",
        "outputId": "b87c69f9-889e-4473-b142-33ef06d35790"
      },
      "execution_count": null,
      "outputs": [
        {
          "output_type": "execute_result",
          "data": {
            "text/plain": [
              "'M'"
            ],
            "application/vnd.google.colaboratory.intrinsic+json": {
              "type": "string"
            }
          },
          "metadata": {},
          "execution_count": 57
        }
      ]
    },
    {
      "cell_type": "code",
      "source": [
        "w1[-1]"
      ],
      "metadata": {
        "colab": {
          "base_uri": "https://localhost:8080/",
          "height": 35
        },
        "id": "AY_Ii7FhNeof",
        "outputId": "4cda0399-33ee-42f3-bf12-9f6aa11cd329"
      },
      "execution_count": null,
      "outputs": [
        {
          "output_type": "execute_result",
          "data": {
            "text/plain": [
              "'y'"
            ],
            "application/vnd.google.colaboratory.intrinsic+json": {
              "type": "string"
            }
          },
          "metadata": {},
          "execution_count": 58
        }
      ]
    },
    {
      "cell_type": "code",
      "source": [
        "w1[0:]"
      ],
      "metadata": {
        "id": "vhfF3iXwNijx"
      },
      "execution_count": null,
      "outputs": []
    },
    {
      "cell_type": "code",
      "source": [
        "w1[:]"
      ],
      "metadata": {
        "id": "pW4m0FoyNlf4"
      },
      "execution_count": null,
      "outputs": []
    },
    {
      "cell_type": "code",
      "source": [
        "w1[1:3]"
      ],
      "metadata": {
        "id": "tgp9ozDdNpwd"
      },
      "execution_count": null,
      "outputs": []
    },
    {
      "cell_type": "code",
      "source": [
        "w = \"mary\"\n",
        "w[0:-1]"
      ],
      "metadata": {
        "id": "0Su3TuHfPxwh"
      },
      "execution_count": null,
      "outputs": []
    },
    {
      "cell_type": "markdown",
      "source": [
        "☺️ DIY: Convert a statement to a yes-no question (e.g., Mary is smart. Tom is smiling. Jane is late.)"
      ],
      "metadata": {
        "id": "lGVkVdCLNMz0"
      }
    },
    {
      "cell_type": "code",
      "source": [
        "w1 = \"Mary\"; w2 = \"is\"; w3 = \"friendly.\""
      ],
      "metadata": {
        "id": "nz1VNUviNXaJ"
      },
      "execution_count": null,
      "outputs": []
    }
  ]
}