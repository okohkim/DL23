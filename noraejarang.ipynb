{
  "nbformat": 4,
  "nbformat_minor": 0,
  "metadata": {
    "colab": {
      "provenance": [],
      "authorship_tag": "ABX9TyPJaBrjV+29uTYnHiROyzfP",
      "include_colab_link": true
    },
    "kernelspec": {
      "name": "python3",
      "display_name": "Python 3"
    },
    "language_info": {
      "name": "python"
    }
  },
  "cells": [
    {
      "cell_type": "markdown",
      "metadata": {
        "id": "view-in-github",
        "colab_type": "text"
      },
      "source": [
        "<a href=\"https://colab.research.google.com/github/okohkim/DL23/blob/main/noraejarang.ipynb\" target=\"_parent\"><img src=\"https://colab.research.google.com/assets/colab-badge.svg\" alt=\"Open In Colab\"/></a>"
      ]
    },
    {
      "cell_type": "markdown",
      "source": [
        "#<영교 노래 자랑 투표>"
      ],
      "metadata": {
        "id": "ud2Vq-DJ0NIa"
      }
    },
    {
      "cell_type": "markdown",
      "source": [],
      "metadata": {
        "id": "iSDQJh9i0QHh"
      }
    },
    {
      "cell_type": "code",
      "execution_count": 5,
      "metadata": {
        "colab": {
          "base_uri": "https://localhost:8080/"
        },
        "cellView": "form",
        "id": "2mDn4MLcx7do",
        "outputId": "ce40231d-ced3-4467-b2d0-fa1c11db7a5b"
      },
      "outputs": [
        {
          "output_type": "stream",
          "name": "stdout",
          "text": [
            "Requirement already satisfied: qrcode in /usr/local/lib/python3.10/dist-packages (7.4.2)\n",
            "Requirement already satisfied: typing-extensions in /usr/local/lib/python3.10/dist-packages (from qrcode) (4.5.0)\n",
            "Requirement already satisfied: pypng in /usr/local/lib/python3.10/dist-packages (from qrcode) (0.20220715.0)\n"
          ]
        }
      ],
      "source": [
        "#@markdown\n",
        "!pip install qrcode"
      ]
    },
    {
      "cell_type": "code",
      "source": [
        "#@markdown\n",
        "import qrcode\n",
        "\n",
        "# Define the data you want to encode in the QR code\n",
        "data = \"https://forms.gle/uXWRLDxfM47pawPU6\"\n",
        "\n",
        "# Create a QR code object\n",
        "qr = qrcode.QRCode(\n",
        "    version=1,  # QR code version (adjust as needed)\n",
        "    error_correction=qrcode.constants.ERROR_CORRECT_L,  # Error correction level\n",
        "    box_size=10,  # Size of each box in the QR code\n",
        "    border=4,  # Border size (adjust as needed)\n",
        ")\n",
        "\n",
        "# Add data to the QR code\n",
        "qr.add_data(data)\n",
        "qr.make(fit=True)\n",
        "\n",
        "# Create an image representation of the QR code\n",
        "qr_img = qr.make_image(fill_color=\"black\", back_color=\"white\")"
      ],
      "metadata": {
        "cellView": "form",
        "id": "9GFTxYX0zGO6"
      },
      "execution_count": 6,
      "outputs": []
    },
    {
      "cell_type": "code",
      "source": [
        "#@markdown\n",
        "from IPython.display import display\n",
        "\n",
        "# Display the QR code image\n",
        "display(qr_img)"
      ],
      "metadata": {
        "colab": {
          "base_uri": "https://localhost:8080/",
          "height": 387
        },
        "cellView": "form",
        "id": "Am4czgTjzNUx",
        "outputId": "a80300e1-3e03-4fd3-8063-3b07af00982a"
      },
      "execution_count": 8,
      "outputs": [
        {
          "output_type": "display_data",
          "data": {
            "text/plain": [
              "<qrcode.image.pil.PilImage at 0x7a6ccc4c7520>"
            ],
            "image/png": "[encoded data removed]"
          },
          "metadata": {}
        }
      ]
    }
  ]
}